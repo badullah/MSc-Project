{
 "cells": [
  {
   "cell_type": "code",
   "execution_count": 30,
   "id": "a3953cff",
   "metadata": {},
   "outputs": [
    {
     "name": "stdout",
     "output_type": "stream",
     "text": [
      "originalFeatures count 16\n",
      "originalFeatures Index(['GENDER', 'AGE', 'SMOKING', 'YELLOW_FINGERS', 'ANXIETY',\n",
      "       'PEER_PRESSURE', 'CHRONIC DISEASE', 'FATIGUE ', 'ALLERGY ', 'WHEEZING',\n",
      "       'ALCOHOL CONSUMING', 'COUGHING', 'SHORTNESS OF BREATH',\n",
      "       'SWALLOWING DIFFICULTY', 'CHEST PAIN', 'DIAGNOSIS'],\n",
      "      dtype='object')\n",
      "  GENDER  AGE  SMOKING  YELLOW_FINGERS  ANXIETY  PEER_PRESSURE  \\\n",
      "0      M   69        0               1        1              0   \n",
      "1      M   74        1               0        0              0   \n",
      "2      F   59        0               0        0              1   \n",
      "3      M   63        1               1        1              0   \n",
      "4      F   63        0               1        0              0   \n",
      "\n",
      "   CHRONIC DISEASE  FATIGUE   ALLERGY   WHEEZING  ALCOHOL CONSUMING  COUGHING  \\\n",
      "0                0         1         0         1                  1         1   \n",
      "1                1         1         1         0                  0         0   \n",
      "2                0         1         0         1                  0         1   \n",
      "3                0         0         0         0                  1         0   \n",
      "4                0         0         0         1                  0         1   \n",
      "\n",
      "   SHORTNESS OF BREATH  SWALLOWING DIFFICULTY  CHEST PAIN  DIAGNOSIS  \n",
      "0                    1                      1           1          1  \n",
      "1                    1                      1           1          1  \n",
      "2                    1                      0           1          0  \n",
      "3                    0                      1           1          0  \n",
      "4                    1                      0           0          0  \n"
     ]
    }
   ],
   "source": [
    "import numpy as np\n",
    "import pandas as pd\n",
    "import matplotlib.pyplot as plt\n",
    "\n",
    "data = pd.read_csv(\"dataset2.csv\")\n",
    "originalFeatures = data.columns\n",
    "print(\"originalFeatures count\", len(originalFeatures))\n",
    "print(\"originalFeatures\", originalFeatures)\n",
    "print(data.head())"
   ]
  },
  {
   "cell_type": "code",
   "execution_count": 31,
   "id": "5829d8fa",
   "metadata": {},
   "outputs": [],
   "source": [
    "data = data.drop([\"GENDER\", \"AGE\"],axis=1)"
   ]
  },
  {
   "cell_type": "code",
   "execution_count": 32,
   "id": "360539e9",
   "metadata": {},
   "outputs": [
    {
     "name": "stdout",
     "output_type": "stream",
     "text": [
      "originalFeatures count 14\n",
      "originalFeatures Index(['SMOKING', 'YELLOW_FINGERS', 'ANXIETY', 'PEER_PRESSURE',\n",
      "       'CHRONIC DISEASE', 'FATIGUE ', 'ALLERGY ', 'WHEEZING',\n",
      "       'ALCOHOL CONSUMING', 'COUGHING', 'SHORTNESS OF BREATH',\n",
      "       'SWALLOWING DIFFICULTY', 'CHEST PAIN', 'DIAGNOSIS'],\n",
      "      dtype='object')\n",
      "   SMOKING  YELLOW_FINGERS  ANXIETY  PEER_PRESSURE  CHRONIC DISEASE  FATIGUE   \\\n",
      "0        0               1        1              0                0         1   \n",
      "1        1               0        0              0                1         1   \n",
      "2        0               0        0              1                0         1   \n",
      "3        1               1        1              0                0         0   \n",
      "4        0               1        0              0                0         0   \n",
      "\n",
      "   ALLERGY   WHEEZING  ALCOHOL CONSUMING  COUGHING  SHORTNESS OF BREATH  \\\n",
      "0         0         1                  1         1                    1   \n",
      "1         1         0                  0         0                    1   \n",
      "2         0         1                  0         1                    1   \n",
      "3         0         0                  1         0                    0   \n",
      "4         0         1                  0         1                    1   \n",
      "\n",
      "   SWALLOWING DIFFICULTY  CHEST PAIN  DIAGNOSIS  \n",
      "0                      1           1          1  \n",
      "1                      1           1          1  \n",
      "2                      0           1          0  \n",
      "3                      1           1          0  \n",
      "4                      0           0          0  \n"
     ]
    }
   ],
   "source": [
    "originalFeatures = data.columns\n",
    "print(\"originalFeatures count\", len(originalFeatures))\n",
    "print(\"originalFeatures\", originalFeatures)\n",
    "print(data.head())"
   ]
  },
  {
   "cell_type": "code",
   "execution_count": 48,
   "id": "d00148ec",
   "metadata": {},
   "outputs": [
    {
     "name": "stdout",
     "output_type": "stream",
     "text": [
      "SMOKING                  0.058179\n",
      "YELLOW_FINGERS           0.181339\n",
      "ANXIETY                  0.144947\n",
      "PEER_PRESSURE            0.186388\n",
      "CHRONIC DISEASE          0.110891\n",
      "FATIGUE                  0.150673\n",
      "ALLERGY                  0.327766\n",
      "WHEEZING                 0.249300\n",
      "ALCOHOL CONSUMING        0.288533\n",
      "COUGHING                 0.248570\n",
      "SHORTNESS OF BREATH      0.060738\n",
      "SWALLOWING DIFFICULTY    0.259730\n",
      "CHEST PAIN               0.190451\n",
      "DIAGNOSIS                1.000000\n",
      "Name: DIAGNOSIS, dtype: float64\n"
     ]
    }
   ],
   "source": [
    "corr_matrix = data.corr()\n",
    "corr_mat = corr_matrix[\"DIAGNOSIS\"]\n",
    "print(corr_mat)"
   ]
  },
  {
   "cell_type": "code",
   "execution_count": 53,
   "id": "874d349d",
   "metadata": {},
   "outputs": [],
   "source": [
    "data = data.drop(['YELLOW_FINGERS', 'ANXIETY', 'PEER_PRESSURE',\n",
    "       'CHRONIC DISEASE', 'FATIGUE ', 'ALLERGY ', 'WHEEZING',\n",
    "       'ALCOHOL CONSUMING', 'COUGHING', 'SHORTNESS OF BREATH',\n",
    "       'SWALLOWING DIFFICULTY', 'CHEST PAIN'], axis=1)"
   ]
  },
  {
   "cell_type": "code",
   "execution_count": null,
   "id": "26e4d411",
   "metadata": {},
   "outputs": [],
   "source": []
  }
 ],
 "metadata": {
  "kernelspec": {
   "display_name": "Python 3 (ipykernel)",
   "language": "python",
   "name": "python3"
  },
  "language_info": {
   "codemirror_mode": {
    "name": "ipython",
    "version": 3
   },
   "file_extension": ".py",
   "mimetype": "text/x-python",
   "name": "python",
   "nbconvert_exporter": "python",
   "pygments_lexer": "ipython3",
   "version": "3.9.12"
  }
 },
 "nbformat": 4,
 "nbformat_minor": 5
}
