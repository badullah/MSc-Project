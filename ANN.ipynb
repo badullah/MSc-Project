{
 "cells": [
  {
   "cell_type": "markdown",
   "id": "d95be8df",
   "metadata": {},
   "source": [
    "## Artificial Neural Network"
   ]
  },
  {
   "cell_type": "code",
   "execution_count": 1,
   "id": "36722394",
   "metadata": {},
   "outputs": [],
   "source": [
    "# Import libraries\n",
    "import pandas as pd\n",
    "import seaborn as sns\n",
    "import numpy as np\n",
    "import matplotlib.pyplot as plt\n",
    "from keras.models import Sequential\n",
    "from keras.layers import Dense, Dropout\n",
    "from sklearn.metrics import ConfusionMatrixDisplay\n",
    "from sklearn.metrics import confusion_matrix\n",
    "from sklearn.metrics import accuracy_score"
   ]
  },
  {
   "cell_type": "code",
   "execution_count": 2,
   "id": "f7301933",
   "metadata": {},
   "outputs": [
    {
     "data": {
      "text/html": [
       "<div>\n",
       "<style scoped>\n",
       "    .dataframe tbody tr th:only-of-type {\n",
       "        vertical-align: middle;\n",
       "    }\n",
       "\n",
       "    .dataframe tbody tr th {\n",
       "        vertical-align: top;\n",
       "    }\n",
       "\n",
       "    .dataframe thead th {\n",
       "        text-align: right;\n",
       "    }\n",
       "</style>\n",
       "<table border=\"1\" class=\"dataframe\">\n",
       "  <thead>\n",
       "    <tr style=\"text-align: right;\">\n",
       "      <th></th>\n",
       "      <th>GENDER</th>\n",
       "      <th>AGE</th>\n",
       "      <th>SMOKING</th>\n",
       "      <th>YELLOW FINGERS</th>\n",
       "      <th>ANXIETY</th>\n",
       "      <th>PEER PRESSURE</th>\n",
       "      <th>CHRONIC DISEASE</th>\n",
       "      <th>FATIGUE</th>\n",
       "      <th>ALLERGY</th>\n",
       "      <th>WHEEZING</th>\n",
       "      <th>ALCOHOL CONSUMING</th>\n",
       "      <th>COUGHING</th>\n",
       "      <th>SHORTNESS OF BREATH</th>\n",
       "      <th>SWALLOWING DIFFICULTY</th>\n",
       "      <th>CHEST PAIN</th>\n",
       "      <th>DIAGNOSIS</th>\n",
       "    </tr>\n",
       "  </thead>\n",
       "  <tbody>\n",
       "    <tr>\n",
       "      <th>0</th>\n",
       "      <td>M</td>\n",
       "      <td>69</td>\n",
       "      <td>0</td>\n",
       "      <td>1</td>\n",
       "      <td>1</td>\n",
       "      <td>0</td>\n",
       "      <td>0</td>\n",
       "      <td>1</td>\n",
       "      <td>0</td>\n",
       "      <td>1</td>\n",
       "      <td>1</td>\n",
       "      <td>1</td>\n",
       "      <td>1</td>\n",
       "      <td>1</td>\n",
       "      <td>1</td>\n",
       "      <td>1</td>\n",
       "    </tr>\n",
       "    <tr>\n",
       "      <th>1</th>\n",
       "      <td>M</td>\n",
       "      <td>74</td>\n",
       "      <td>1</td>\n",
       "      <td>0</td>\n",
       "      <td>0</td>\n",
       "      <td>0</td>\n",
       "      <td>1</td>\n",
       "      <td>1</td>\n",
       "      <td>1</td>\n",
       "      <td>0</td>\n",
       "      <td>0</td>\n",
       "      <td>0</td>\n",
       "      <td>1</td>\n",
       "      <td>1</td>\n",
       "      <td>1</td>\n",
       "      <td>1</td>\n",
       "    </tr>\n",
       "    <tr>\n",
       "      <th>2</th>\n",
       "      <td>F</td>\n",
       "      <td>59</td>\n",
       "      <td>0</td>\n",
       "      <td>0</td>\n",
       "      <td>0</td>\n",
       "      <td>1</td>\n",
       "      <td>0</td>\n",
       "      <td>1</td>\n",
       "      <td>0</td>\n",
       "      <td>1</td>\n",
       "      <td>0</td>\n",
       "      <td>1</td>\n",
       "      <td>1</td>\n",
       "      <td>0</td>\n",
       "      <td>1</td>\n",
       "      <td>0</td>\n",
       "    </tr>\n",
       "    <tr>\n",
       "      <th>3</th>\n",
       "      <td>M</td>\n",
       "      <td>63</td>\n",
       "      <td>1</td>\n",
       "      <td>1</td>\n",
       "      <td>1</td>\n",
       "      <td>0</td>\n",
       "      <td>0</td>\n",
       "      <td>0</td>\n",
       "      <td>0</td>\n",
       "      <td>0</td>\n",
       "      <td>1</td>\n",
       "      <td>0</td>\n",
       "      <td>0</td>\n",
       "      <td>1</td>\n",
       "      <td>1</td>\n",
       "      <td>0</td>\n",
       "    </tr>\n",
       "    <tr>\n",
       "      <th>4</th>\n",
       "      <td>F</td>\n",
       "      <td>63</td>\n",
       "      <td>0</td>\n",
       "      <td>1</td>\n",
       "      <td>0</td>\n",
       "      <td>0</td>\n",
       "      <td>0</td>\n",
       "      <td>0</td>\n",
       "      <td>0</td>\n",
       "      <td>1</td>\n",
       "      <td>0</td>\n",
       "      <td>1</td>\n",
       "      <td>1</td>\n",
       "      <td>0</td>\n",
       "      <td>0</td>\n",
       "      <td>0</td>\n",
       "    </tr>\n",
       "  </tbody>\n",
       "</table>\n",
       "</div>"
      ],
      "text/plain": [
       "  GENDER  AGE  SMOKING  YELLOW FINGERS  ANXIETY  PEER PRESSURE  \\\n",
       "0      M   69        0               1        1              0   \n",
       "1      M   74        1               0        0              0   \n",
       "2      F   59        0               0        0              1   \n",
       "3      M   63        1               1        1              0   \n",
       "4      F   63        0               1        0              0   \n",
       "\n",
       "   CHRONIC DISEASE  FATIGUE  ALLERGY  WHEEZING  ALCOHOL CONSUMING  COUGHING  \\\n",
       "0                0        1        0         1                  1         1   \n",
       "1                1        1        1         0                  0         0   \n",
       "2                0        1        0         1                  0         1   \n",
       "3                0        0        0         0                  1         0   \n",
       "4                0        0        0         1                  0         1   \n",
       "\n",
       "   SHORTNESS OF BREATH  SWALLOWING DIFFICULTY  CHEST PAIN  DIAGNOSIS  \n",
       "0                    1                      1           1          1  \n",
       "1                    1                      1           1          1  \n",
       "2                    1                      0           1          0  \n",
       "3                    0                      1           1          0  \n",
       "4                    1                      0           0          0  "
      ]
     },
     "execution_count": 2,
     "metadata": {},
     "output_type": "execute_result"
    }
   ],
   "source": [
    "# Import our dataset for the lung cancer survey in our notebook and load the table\n",
    "data = pd.read_csv(\"dataset.csv\")\n",
    "data.head()"
   ]
  },
  {
   "cell_type": "code",
   "execution_count": 3,
   "id": "275d12b8",
   "metadata": {},
   "outputs": [
    {
     "data": {
      "text/html": [
       "<div>\n",
       "<style scoped>\n",
       "    .dataframe tbody tr th:only-of-type {\n",
       "        vertical-align: middle;\n",
       "    }\n",
       "\n",
       "    .dataframe tbody tr th {\n",
       "        vertical-align: top;\n",
       "    }\n",
       "\n",
       "    .dataframe thead th {\n",
       "        text-align: right;\n",
       "    }\n",
       "</style>\n",
       "<table border=\"1\" class=\"dataframe\">\n",
       "  <thead>\n",
       "    <tr style=\"text-align: right;\">\n",
       "      <th></th>\n",
       "      <th>SMOKING</th>\n",
       "      <th>YELLOW FINGERS</th>\n",
       "      <th>ANXIETY</th>\n",
       "      <th>PEER PRESSURE</th>\n",
       "      <th>CHRONIC DISEASE</th>\n",
       "      <th>FATIGUE</th>\n",
       "      <th>ALLERGY</th>\n",
       "      <th>WHEEZING</th>\n",
       "      <th>ALCOHOL CONSUMING</th>\n",
       "      <th>COUGHING</th>\n",
       "      <th>SHORTNESS OF BREATH</th>\n",
       "      <th>SWALLOWING DIFFICULTY</th>\n",
       "      <th>CHEST PAIN</th>\n",
       "      <th>DIAGNOSIS</th>\n",
       "    </tr>\n",
       "  </thead>\n",
       "  <tbody>\n",
       "    <tr>\n",
       "      <th>0</th>\n",
       "      <td>0</td>\n",
       "      <td>1</td>\n",
       "      <td>1</td>\n",
       "      <td>0</td>\n",
       "      <td>0</td>\n",
       "      <td>1</td>\n",
       "      <td>0</td>\n",
       "      <td>1</td>\n",
       "      <td>1</td>\n",
       "      <td>1</td>\n",
       "      <td>1</td>\n",
       "      <td>1</td>\n",
       "      <td>1</td>\n",
       "      <td>1</td>\n",
       "    </tr>\n",
       "    <tr>\n",
       "      <th>1</th>\n",
       "      <td>1</td>\n",
       "      <td>0</td>\n",
       "      <td>0</td>\n",
       "      <td>0</td>\n",
       "      <td>1</td>\n",
       "      <td>1</td>\n",
       "      <td>1</td>\n",
       "      <td>0</td>\n",
       "      <td>0</td>\n",
       "      <td>0</td>\n",
       "      <td>1</td>\n",
       "      <td>1</td>\n",
       "      <td>1</td>\n",
       "      <td>1</td>\n",
       "    </tr>\n",
       "    <tr>\n",
       "      <th>2</th>\n",
       "      <td>0</td>\n",
       "      <td>0</td>\n",
       "      <td>0</td>\n",
       "      <td>1</td>\n",
       "      <td>0</td>\n",
       "      <td>1</td>\n",
       "      <td>0</td>\n",
       "      <td>1</td>\n",
       "      <td>0</td>\n",
       "      <td>1</td>\n",
       "      <td>1</td>\n",
       "      <td>0</td>\n",
       "      <td>1</td>\n",
       "      <td>0</td>\n",
       "    </tr>\n",
       "    <tr>\n",
       "      <th>3</th>\n",
       "      <td>1</td>\n",
       "      <td>1</td>\n",
       "      <td>1</td>\n",
       "      <td>0</td>\n",
       "      <td>0</td>\n",
       "      <td>0</td>\n",
       "      <td>0</td>\n",
       "      <td>0</td>\n",
       "      <td>1</td>\n",
       "      <td>0</td>\n",
       "      <td>0</td>\n",
       "      <td>1</td>\n",
       "      <td>1</td>\n",
       "      <td>0</td>\n",
       "    </tr>\n",
       "    <tr>\n",
       "      <th>4</th>\n",
       "      <td>0</td>\n",
       "      <td>1</td>\n",
       "      <td>0</td>\n",
       "      <td>0</td>\n",
       "      <td>0</td>\n",
       "      <td>0</td>\n",
       "      <td>0</td>\n",
       "      <td>1</td>\n",
       "      <td>0</td>\n",
       "      <td>1</td>\n",
       "      <td>1</td>\n",
       "      <td>0</td>\n",
       "      <td>0</td>\n",
       "      <td>0</td>\n",
       "    </tr>\n",
       "  </tbody>\n",
       "</table>\n",
       "</div>"
      ],
      "text/plain": [
       "   SMOKING  YELLOW FINGERS  ANXIETY  PEER PRESSURE  CHRONIC DISEASE  FATIGUE  \\\n",
       "0        0               1        1              0                0        1   \n",
       "1        1               0        0              0                1        1   \n",
       "2        0               0        0              1                0        1   \n",
       "3        1               1        1              0                0        0   \n",
       "4        0               1        0              0                0        0   \n",
       "\n",
       "   ALLERGY  WHEEZING  ALCOHOL CONSUMING  COUGHING  SHORTNESS OF BREATH  \\\n",
       "0        0         1                  1         1                    1   \n",
       "1        1         0                  0         0                    1   \n",
       "2        0         1                  0         1                    1   \n",
       "3        0         0                  1         0                    0   \n",
       "4        0         1                  0         1                    1   \n",
       "\n",
       "   SWALLOWING DIFFICULTY  CHEST PAIN  DIAGNOSIS  \n",
       "0                      1           1          1  \n",
       "1                      1           1          1  \n",
       "2                      0           1          0  \n",
       "3                      1           1          0  \n",
       "4                      0           0          0  "
      ]
     },
     "execution_count": 3,
     "metadata": {},
     "output_type": "execute_result"
    }
   ],
   "source": [
    "# Remove unwanted columns from our dataset\n",
    "data = data.drop([\"GENDER\", \"AGE\"], axis=1)\n",
    "data.head()"
   ]
  },
  {
   "cell_type": "code",
   "execution_count": 4,
   "id": "932e3f43",
   "metadata": {},
   "outputs": [],
   "source": [
    "# Divide the dataset into predictors and target variable\n",
    "\n",
    "# Predictors\n",
    "X = data.drop([\"DIAGNOSIS\"], axis=1)\n",
    "\n",
    "# Target variable\n",
    "y = data[\"DIAGNOSIS\"] "
   ]
  },
  {
   "cell_type": "markdown",
   "id": "76fd6824",
   "metadata": {},
   "source": [
    "## Divide data into training and testing parts"
   ]
  },
  {
   "cell_type": "code",
   "execution_count": 5,
   "id": "e8f2aece",
   "metadata": {},
   "outputs": [],
   "source": [
    "# In this case we will be testing on 30% of the data\n",
    "from sklearn.model_selection import train_test_split\n",
    "\n",
    "X_train, X_test, y_train, y_test = train_test_split(X, y, test_size=0.30, random_state=42)"
   ]
  },
  {
   "cell_type": "markdown",
   "id": "20f69498",
   "metadata": {},
   "source": [
    "## Training the model"
   ]
  },
  {
   "cell_type": "code",
   "execution_count": 29,
   "id": "b93d98b9",
   "metadata": {},
   "outputs": [
    {
     "name": "stdout",
     "output_type": "stream",
     "text": [
      "Epoch 1/50\n",
      "16/16 [==============================] - 1s 15ms/step - loss: 0.9095 - accuracy: 0.3311 - val_loss: 0.7890 - val_accuracy: 0.4308\n",
      "Epoch 2/50\n",
      "16/16 [==============================] - 0s 5ms/step - loss: 0.7451 - accuracy: 0.4702 - val_loss: 0.6339 - val_accuracy: 0.6615\n",
      "Epoch 3/50\n",
      "16/16 [==============================] - 0s 5ms/step - loss: 0.6598 - accuracy: 0.5629 - val_loss: 0.5393 - val_accuracy: 0.8000\n",
      "Epoch 4/50\n",
      "16/16 [==============================] - 0s 6ms/step - loss: 0.5967 - accuracy: 0.6159 - val_loss: 0.4806 - val_accuracy: 0.8615\n",
      "Epoch 5/50\n",
      "16/16 [==============================] - 0s 5ms/step - loss: 0.5344 - accuracy: 0.7351 - val_loss: 0.4325 - val_accuracy: 0.8769\n",
      "Epoch 6/50\n",
      "16/16 [==============================] - 0s 5ms/step - loss: 0.5215 - accuracy: 0.7219 - val_loss: 0.3981 - val_accuracy: 0.8923\n",
      "Epoch 7/50\n",
      "16/16 [==============================] - 0s 5ms/step - loss: 0.5462 - accuracy: 0.8013 - val_loss: 0.3791 - val_accuracy: 0.8923\n",
      "Epoch 8/50\n",
      "16/16 [==============================] - 0s 5ms/step - loss: 0.4563 - accuracy: 0.8543 - val_loss: 0.3620 - val_accuracy: 0.8923\n",
      "Epoch 9/50\n",
      "16/16 [==============================] - 0s 5ms/step - loss: 0.5255 - accuracy: 0.8609 - val_loss: 0.3498 - val_accuracy: 0.8923\n",
      "Epoch 10/50\n",
      "16/16 [==============================] - 0s 5ms/step - loss: 0.4933 - accuracy: 0.8278 - val_loss: 0.3379 - val_accuracy: 0.8923\n",
      "Epoch 11/50\n",
      "16/16 [==============================] - 0s 5ms/step - loss: 0.5010 - accuracy: 0.8013 - val_loss: 0.3351 - val_accuracy: 0.8923\n",
      "Epoch 12/50\n",
      "16/16 [==============================] - 0s 5ms/step - loss: 0.4781 - accuracy: 0.8411 - val_loss: 0.3375 - val_accuracy: 0.8923\n",
      "Epoch 13/50\n",
      "16/16 [==============================] - 0s 5ms/step - loss: 0.4311 - accuracy: 0.8477 - val_loss: 0.3220 - val_accuracy: 0.8923\n",
      "Epoch 14/50\n",
      "16/16 [==============================] - 0s 5ms/step - loss: 0.4664 - accuracy: 0.8609 - val_loss: 0.3117 - val_accuracy: 0.8923\n",
      "Epoch 15/50\n",
      "16/16 [==============================] - 0s 5ms/step - loss: 0.4547 - accuracy: 0.8543 - val_loss: 0.3112 - val_accuracy: 0.8923\n",
      "Epoch 16/50\n",
      "16/16 [==============================] - 0s 5ms/step - loss: 0.4514 - accuracy: 0.8543 - val_loss: 0.3032 - val_accuracy: 0.8923\n",
      "Epoch 17/50\n",
      "16/16 [==============================] - 0s 6ms/step - loss: 0.4596 - accuracy: 0.8609 - val_loss: 0.3039 - val_accuracy: 0.8923\n",
      "Epoch 18/50\n",
      "16/16 [==============================] - 0s 5ms/step - loss: 0.4156 - accuracy: 0.8742 - val_loss: 0.3011 - val_accuracy: 0.8923\n",
      "Epoch 19/50\n",
      "16/16 [==============================] - 0s 5ms/step - loss: 0.4609 - accuracy: 0.8411 - val_loss: 0.3031 - val_accuracy: 0.8923\n",
      "Epoch 20/50\n",
      "16/16 [==============================] - 0s 5ms/step - loss: 0.4046 - accuracy: 0.8742 - val_loss: 0.3106 - val_accuracy: 0.8769\n",
      "Epoch 21/50\n",
      "16/16 [==============================] - 0s 5ms/step - loss: 0.4324 - accuracy: 0.8344 - val_loss: 0.3032 - val_accuracy: 0.8923\n",
      "Epoch 22/50\n",
      "16/16 [==============================] - 0s 5ms/step - loss: 0.4035 - accuracy: 0.8609 - val_loss: 0.2955 - val_accuracy: 0.8923\n",
      "Epoch 23/50\n",
      "16/16 [==============================] - 0s 6ms/step - loss: 0.3943 - accuracy: 0.8477 - val_loss: 0.2882 - val_accuracy: 0.8923\n",
      "Epoch 24/50\n",
      "16/16 [==============================] - 0s 5ms/step - loss: 0.3896 - accuracy: 0.8477 - val_loss: 0.2825 - val_accuracy: 0.8923\n",
      "Epoch 25/50\n",
      "16/16 [==============================] - 0s 5ms/step - loss: 0.3569 - accuracy: 0.8477 - val_loss: 0.2756 - val_accuracy: 0.8923\n",
      "Epoch 26/50\n",
      "16/16 [==============================] - 0s 5ms/step - loss: 0.3944 - accuracy: 0.8543 - val_loss: 0.2706 - val_accuracy: 0.8923\n",
      "Epoch 27/50\n",
      "16/16 [==============================] - 0s 6ms/step - loss: 0.3680 - accuracy: 0.8808 - val_loss: 0.2727 - val_accuracy: 0.8923\n",
      "Epoch 28/50\n",
      "16/16 [==============================] - 0s 5ms/step - loss: 0.3932 - accuracy: 0.8808 - val_loss: 0.2750 - val_accuracy: 0.8923\n",
      "Epoch 29/50\n",
      "16/16 [==============================] - 0s 5ms/step - loss: 0.4124 - accuracy: 0.8675 - val_loss: 0.2890 - val_accuracy: 0.8769\n",
      "Epoch 30/50\n",
      "16/16 [==============================] - 0s 5ms/step - loss: 0.3650 - accuracy: 0.8874 - val_loss: 0.2884 - val_accuracy: 0.8769\n",
      "Epoch 31/50\n",
      "16/16 [==============================] - 0s 5ms/step - loss: 0.3577 - accuracy: 0.8675 - val_loss: 0.2781 - val_accuracy: 0.8769\n",
      "Epoch 32/50\n",
      "16/16 [==============================] - 0s 5ms/step - loss: 0.3556 - accuracy: 0.8344 - val_loss: 0.2755 - val_accuracy: 0.8769\n",
      "Epoch 33/50\n",
      "16/16 [==============================] - 0s 5ms/step - loss: 0.3785 - accuracy: 0.8808 - val_loss: 0.2899 - val_accuracy: 0.8769\n",
      "Epoch 34/50\n",
      "16/16 [==============================] - 0s 5ms/step - loss: 0.3715 - accuracy: 0.8675 - val_loss: 0.2836 - val_accuracy: 0.8769\n",
      "Epoch 35/50\n",
      "16/16 [==============================] - 0s 5ms/step - loss: 0.3349 - accuracy: 0.9139 - val_loss: 0.2700 - val_accuracy: 0.9077\n",
      "Epoch 36/50\n",
      "16/16 [==============================] - 0s 5ms/step - loss: 0.2908 - accuracy: 0.9205 - val_loss: 0.2659 - val_accuracy: 0.8923\n",
      "Epoch 37/50\n",
      "16/16 [==============================] - 0s 4ms/step - loss: 0.3663 - accuracy: 0.8675 - val_loss: 0.2630 - val_accuracy: 0.9077\n",
      "Epoch 38/50\n",
      "16/16 [==============================] - 0s 5ms/step - loss: 0.3721 - accuracy: 0.8278 - val_loss: 0.2650 - val_accuracy: 0.9077\n",
      "Epoch 39/50\n",
      "16/16 [==============================] - 0s 4ms/step - loss: 0.3536 - accuracy: 0.9007 - val_loss: 0.2676 - val_accuracy: 0.8769\n",
      "Epoch 40/50\n",
      "16/16 [==============================] - 0s 5ms/step - loss: 0.3435 - accuracy: 0.8609 - val_loss: 0.2669 - val_accuracy: 0.8769\n",
      "Epoch 41/50\n",
      "16/16 [==============================] - 0s 5ms/step - loss: 0.3586 - accuracy: 0.9007 - val_loss: 0.2647 - val_accuracy: 0.9077\n",
      "Epoch 42/50\n",
      "16/16 [==============================] - 0s 4ms/step - loss: 0.3382 - accuracy: 0.8874 - val_loss: 0.2618 - val_accuracy: 0.9077\n",
      "Epoch 43/50\n",
      "16/16 [==============================] - 0s 5ms/step - loss: 0.3555 - accuracy: 0.8808 - val_loss: 0.2563 - val_accuracy: 0.9077\n",
      "Epoch 44/50\n",
      "16/16 [==============================] - 0s 4ms/step - loss: 0.3710 - accuracy: 0.8742 - val_loss: 0.2528 - val_accuracy: 0.8923\n",
      "Epoch 45/50\n",
      "16/16 [==============================] - 0s 5ms/step - loss: 0.3364 - accuracy: 0.9007 - val_loss: 0.2497 - val_accuracy: 0.9077\n",
      "Epoch 46/50\n",
      "16/16 [==============================] - 0s 4ms/step - loss: 0.3211 - accuracy: 0.8808 - val_loss: 0.2468 - val_accuracy: 0.8923\n",
      "Epoch 47/50\n",
      "16/16 [==============================] - 0s 5ms/step - loss: 0.3648 - accuracy: 0.9073 - val_loss: 0.2478 - val_accuracy: 0.9077\n",
      "Epoch 48/50\n",
      "16/16 [==============================] - 0s 4ms/step - loss: 0.3055 - accuracy: 0.8940 - val_loss: 0.2472 - val_accuracy: 0.9077\n",
      "Epoch 49/50\n",
      "16/16 [==============================] - 0s 5ms/step - loss: 0.3432 - accuracy: 0.8940 - val_loss: 0.2418 - val_accuracy: 0.8923\n",
      "Epoch 50/50\n",
      "16/16 [==============================] - 0s 5ms/step - loss: 0.3592 - accuracy: 0.8808 - val_loss: 0.2451 - val_accuracy: 0.9077\n"
     ]
    }
   ],
   "source": [
    "model = Sequential()\n",
    "\n",
    "# Add hidden layers\n",
    "model.add(Dense(32, input_dim=13, activation=\"relu\"))\n",
    "model.add(Dense(8, activation=\"relu\"))\n",
    "\n",
    "model.add(Dropout(0.5))\n",
    "\n",
    "# Add an output layer with 1 neuron (binary)\n",
    "model.add(Dense(1, activation=\"sigmoid\"))\n",
    "\n",
    "# Compiling the model\n",
    "model.compile(loss=\"binary_crossentropy\", optimizer=\"adam\", metrics=[\"accuracy\"])\n",
    "\n",
    "# Training the model\n",
    "history = model.fit(X_train, y_train, epochs=50, batch_size=10, validation_split=0.30)"
   ]
  },
  {
   "cell_type": "markdown",
   "id": "1dc9cfa9",
   "metadata": {},
   "source": [
    "## Evaluating the model"
   ]
  },
  {
   "cell_type": "code",
   "execution_count": 30,
   "id": "58d50146",
   "metadata": {},
   "outputs": [
    {
     "name": "stdout",
     "output_type": "stream",
     "text": [
      "10/10 [==============================] - 0s 2ms/step - loss: 0.2154 - accuracy: 0.9320\n",
      "Loss: 0.2154\n",
      "Accuracy: 0.9320\n"
     ]
    }
   ],
   "source": [
    "# Evaluate the model\n",
    "loss, accuracy = model.evaluate(X, y)\n",
    "print(f\"Loss: {loss:.4f}\")\n",
    "print(f\"Accuracy: {accuracy:.4f}\")"
   ]
  },
  {
   "cell_type": "code",
   "execution_count": 31,
   "id": "40a73f8d",
   "metadata": {},
   "outputs": [
    {
     "name": "stdout",
     "output_type": "stream",
     "text": [
      "3/3 [==============================] - 0s 2ms/step\n"
     ]
    }
   ],
   "source": [
    "# Make predictions\n",
    "predictions = model.predict(X_test)"
   ]
  },
  {
   "cell_type": "code",
   "execution_count": 32,
   "id": "f619b2b9",
   "metadata": {},
   "outputs": [],
   "source": [
    "# Convert predicted probabilities into binary\n",
    "predictions = (predictions > 0.5)*1"
   ]
  },
  {
   "cell_type": "code",
   "execution_count": 33,
   "id": "c5298c25",
   "metadata": {},
   "outputs": [
    {
     "name": "stdout",
     "output_type": "stream",
     "text": [
      "3/3 [==============================] - 0s 3ms/step - loss: 0.1675 - accuracy: 0.9570\n",
      "[0.16749294102191925, 0.9569892287254333]\n"
     ]
    }
   ],
   "source": [
    "scores = model.evaluate(X_test, y_test)\n",
    "print(scores)"
   ]
  },
  {
   "cell_type": "code",
   "execution_count": 34,
   "id": "3895b45e",
   "metadata": {},
   "outputs": [
    {
     "data": {
      "text/plain": [
       "0.956989247311828"
      ]
     },
     "execution_count": 34,
     "metadata": {},
     "output_type": "execute_result"
    }
   ],
   "source": [
    "score = accuracy_score(y_test, predictions)\n",
    "score"
   ]
  },
  {
   "cell_type": "code",
   "execution_count": 35,
   "id": "332e584a",
   "metadata": {},
   "outputs": [
    {
     "data": {
      "image/png": "[encoded data removed]",
      "text/plain": [
       "<Figure size 640x480 with 2 Axes>"
      ]
     },
     "metadata": {},
     "output_type": "display_data"
    }
   ],
   "source": [
    "cfm = confusion_matrix(y_test, predictions)\n",
    "disp = ConfusionMatrixDisplay(cfm)\n",
    "disp.plot()\n",
    "plt.gca().invert_yaxis()\n",
    "plt.show()"
   ]
  },
  {
   "cell_type": "code",
   "execution_count": 36,
   "id": "b2a1c9cf",
   "metadata": {},
   "outputs": [
    {
     "data": {
      "image/png": "[encoded data removed]",
      "text/plain": [
       "<Figure size 640x480 with 1 Axes>"
      ]
     },
     "metadata": {},
     "output_type": "display_data"
    }
   ],
   "source": [
    "plt.plot(history.history[\"accuracy\"])\n",
    "plt.plot(history.history[\"val_accuracy\"])\n",
    "plt.title(\"ANN Model Accuracy\")\n",
    "plt.ylabel(\"accuracy\")\n",
    "plt.xlabel(\"epoch\")\n",
    "plt.legend([\"train\", \"test\"], loc=\"lower right\")\n",
    "plt.show()"
   ]
  },
  {
   "cell_type": "code",
   "execution_count": 37,
   "id": "ddea8790",
   "metadata": {},
   "outputs": [
    {
     "data": {
      "image/png": "[encoded data removed]",
      "text/plain": [
       "<Figure size 640x480 with 1 Axes>"
      ]
     },
     "metadata": {},
     "output_type": "display_data"
    }
   ],
   "source": [
    "plt.plot(history.history[\"loss\"])\n",
    "plt.plot(history.history[\"val_loss\"])\n",
    "plt.title(\"ANN Model Loss\")\n",
    "plt.ylabel(\"loss\")\n",
    "plt.xlabel(\"epoch\")\n",
    "plt.legend([\"train\", \"test\"], loc=\"upper right\")\n",
    "plt.show()"
   ]
  },
  {
   "cell_type": "code",
   "execution_count": null,
   "id": "f6d3bbf8",
   "metadata": {},
   "outputs": [],
   "source": []
  }
 ],
 "metadata": {
  "kernelspec": {
   "display_name": "Python 3 (ipykernel)",
   "language": "python",
   "name": "python3"
  },
  "language_info": {
   "codemirror_mode": {
    "name": "ipython",
    "version": 3
   },
   "file_extension": ".py",
   "mimetype": "text/x-python",
   "name": "python",
   "nbconvert_exporter": "python",
   "pygments_lexer": "ipython3",
   "version": "3.10.9"
  }
 },
 "nbformat": 4,
 "nbformat_minor": 5
}
