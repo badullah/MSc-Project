{
 "cells": [
  {
   "cell_type": "markdown",
   "id": "d95be8df",
   "metadata": {},
   "source": [
    "## Logistic Regression model"
   ]
  },
  {
   "cell_type": "code",
   "execution_count": 1,
   "id": "36722394",
   "metadata": {},
   "outputs": [],
   "source": [
    "# Import libraries\n",
    "import pandas as pd\n",
    "import seaborn as sns\n",
    "import numpy as np\n",
    "import matplotlib.pyplot as plt"
   ]
  },
  {
   "cell_type": "code",
   "execution_count": 2,
   "id": "f7301933",
   "metadata": {},
   "outputs": [
    {
     "data": {
      "text/html": [
       "<div>\n",
       "<style scoped>\n",
       "    .dataframe tbody tr th:only-of-type {\n",
       "        vertical-align: middle;\n",
       "    }\n",
       "\n",
       "    .dataframe tbody tr th {\n",
       "        vertical-align: top;\n",
       "    }\n",
       "\n",
       "    .dataframe thead th {\n",
       "        text-align: right;\n",
       "    }\n",
       "</style>\n",
       "<table border=\"1\" class=\"dataframe\">\n",
       "  <thead>\n",
       "    <tr style=\"text-align: right;\">\n",
       "      <th></th>\n",
       "      <th>GENDER</th>\n",
       "      <th>AGE</th>\n",
       "      <th>SMOKING</th>\n",
       "      <th>YELLOW FINGERS</th>\n",
       "      <th>ANXIETY</th>\n",
       "      <th>PEER PRESSURE</th>\n",
       "      <th>CHRONIC DISEASE</th>\n",
       "      <th>FATIGUE</th>\n",
       "      <th>ALLERGY</th>\n",
       "      <th>WHEEZING</th>\n",
       "      <th>ALCOHOL CONSUMING</th>\n",
       "      <th>COUGHING</th>\n",
       "      <th>SHORTNESS OF BREATH</th>\n",
       "      <th>SWALLOWING DIFFICULTY</th>\n",
       "      <th>CHEST PAIN</th>\n",
       "      <th>DIAGNOSIS</th>\n",
       "    </tr>\n",
       "  </thead>\n",
       "  <tbody>\n",
       "    <tr>\n",
       "      <th>0</th>\n",
       "      <td>M</td>\n",
       "      <td>69</td>\n",
       "      <td>0</td>\n",
       "      <td>1</td>\n",
       "      <td>1</td>\n",
       "      <td>0</td>\n",
       "      <td>0</td>\n",
       "      <td>1</td>\n",
       "      <td>0</td>\n",
       "      <td>1</td>\n",
       "      <td>1</td>\n",
       "      <td>1</td>\n",
       "      <td>1</td>\n",
       "      <td>1</td>\n",
       "      <td>1</td>\n",
       "      <td>1</td>\n",
       "    </tr>\n",
       "    <tr>\n",
       "      <th>1</th>\n",
       "      <td>M</td>\n",
       "      <td>74</td>\n",
       "      <td>1</td>\n",
       "      <td>0</td>\n",
       "      <td>0</td>\n",
       "      <td>0</td>\n",
       "      <td>1</td>\n",
       "      <td>1</td>\n",
       "      <td>1</td>\n",
       "      <td>0</td>\n",
       "      <td>0</td>\n",
       "      <td>0</td>\n",
       "      <td>1</td>\n",
       "      <td>1</td>\n",
       "      <td>1</td>\n",
       "      <td>1</td>\n",
       "    </tr>\n",
       "    <tr>\n",
       "      <th>2</th>\n",
       "      <td>F</td>\n",
       "      <td>59</td>\n",
       "      <td>0</td>\n",
       "      <td>0</td>\n",
       "      <td>0</td>\n",
       "      <td>1</td>\n",
       "      <td>0</td>\n",
       "      <td>1</td>\n",
       "      <td>0</td>\n",
       "      <td>1</td>\n",
       "      <td>0</td>\n",
       "      <td>1</td>\n",
       "      <td>1</td>\n",
       "      <td>0</td>\n",
       "      <td>1</td>\n",
       "      <td>0</td>\n",
       "    </tr>\n",
       "    <tr>\n",
       "      <th>3</th>\n",
       "      <td>M</td>\n",
       "      <td>63</td>\n",
       "      <td>1</td>\n",
       "      <td>1</td>\n",
       "      <td>1</td>\n",
       "      <td>0</td>\n",
       "      <td>0</td>\n",
       "      <td>0</td>\n",
       "      <td>0</td>\n",
       "      <td>0</td>\n",
       "      <td>1</td>\n",
       "      <td>0</td>\n",
       "      <td>0</td>\n",
       "      <td>1</td>\n",
       "      <td>1</td>\n",
       "      <td>0</td>\n",
       "    </tr>\n",
       "    <tr>\n",
       "      <th>4</th>\n",
       "      <td>F</td>\n",
       "      <td>63</td>\n",
       "      <td>0</td>\n",
       "      <td>1</td>\n",
       "      <td>0</td>\n",
       "      <td>0</td>\n",
       "      <td>0</td>\n",
       "      <td>0</td>\n",
       "      <td>0</td>\n",
       "      <td>1</td>\n",
       "      <td>0</td>\n",
       "      <td>1</td>\n",
       "      <td>1</td>\n",
       "      <td>0</td>\n",
       "      <td>0</td>\n",
       "      <td>0</td>\n",
       "    </tr>\n",
       "  </tbody>\n",
       "</table>\n",
       "</div>"
      ],
      "text/plain": [
       "  GENDER  AGE  SMOKING  YELLOW FINGERS  ANXIETY  PEER PRESSURE  \\\n",
       "0      M   69        0               1        1              0   \n",
       "1      M   74        1               0        0              0   \n",
       "2      F   59        0               0        0              1   \n",
       "3      M   63        1               1        1              0   \n",
       "4      F   63        0               1        0              0   \n",
       "\n",
       "   CHRONIC DISEASE  FATIGUE  ALLERGY  WHEEZING  ALCOHOL CONSUMING  COUGHING  \\\n",
       "0                0        1        0         1                  1         1   \n",
       "1                1        1        1         0                  0         0   \n",
       "2                0        1        0         1                  0         1   \n",
       "3                0        0        0         0                  1         0   \n",
       "4                0        0        0         1                  0         1   \n",
       "\n",
       "   SHORTNESS OF BREATH  SWALLOWING DIFFICULTY  CHEST PAIN  DIAGNOSIS  \n",
       "0                    1                      1           1          1  \n",
       "1                    1                      1           1          1  \n",
       "2                    1                      0           1          0  \n",
       "3                    0                      1           1          0  \n",
       "4                    1                      0           0          0  "
      ]
     },
     "execution_count": 2,
     "metadata": {},
     "output_type": "execute_result"
    }
   ],
   "source": [
    "# Import our dataset for the lung cancer survey in our notebook and load the table\n",
    "data = pd.read_csv(\"dataset.csv\")\n",
    "data.head()"
   ]
  },
  {
   "cell_type": "code",
   "execution_count": 3,
   "id": "e65454c2",
   "metadata": {},
   "outputs": [
    {
     "name": "stdout",
     "output_type": "stream",
     "text": [
      "<class 'pandas.core.frame.DataFrame'>\n",
      "RangeIndex: 309 entries, 0 to 308\n",
      "Data columns (total 16 columns):\n",
      " #   Column                 Non-Null Count  Dtype \n",
      "---  ------                 --------------  ----- \n",
      " 0   GENDER                 309 non-null    object\n",
      " 1   AGE                    309 non-null    int64 \n",
      " 2   SMOKING                309 non-null    int64 \n",
      " 3   YELLOW FINGERS         309 non-null    int64 \n",
      " 4   ANXIETY                309 non-null    int64 \n",
      " 5   PEER PRESSURE          309 non-null    int64 \n",
      " 6   CHRONIC DISEASE        309 non-null    int64 \n",
      " 7   FATIGUE                309 non-null    int64 \n",
      " 8   ALLERGY                309 non-null    int64 \n",
      " 9   WHEEZING               309 non-null    int64 \n",
      " 10  ALCOHOL CONSUMING      309 non-null    int64 \n",
      " 11  COUGHING               309 non-null    int64 \n",
      " 12  SHORTNESS OF BREATH    309 non-null    int64 \n",
      " 13  SWALLOWING DIFFICULTY  309 non-null    int64 \n",
      " 14  CHEST PAIN             309 non-null    int64 \n",
      " 15  DIAGNOSIS              309 non-null    int64 \n",
      "dtypes: int64(15), object(1)\n",
      "memory usage: 38.8+ KB\n"
     ]
    }
   ],
   "source": [
    "# Get information about the data\n",
    "data.info()"
   ]
  },
  {
   "cell_type": "code",
   "execution_count": 4,
   "id": "c2584437",
   "metadata": {},
   "outputs": [
    {
     "data": {
      "text/plain": [
       "<AxesSubplot:>"
      ]
     },
     "execution_count": 4,
     "metadata": {},
     "output_type": "execute_result"
    },
    {
     "data": {
      "image/png": "[encoded data removed]",
      "text/plain": [
       "<Figure size 432x288 with 2 Axes>"
      ]
     },
     "metadata": {
      "needs_background": "light"
     },
     "output_type": "display_data"
    }
   ],
   "source": [
    "# Cleaning the dataset in order to remove any empty column if there is any by plotting a heatmap\n",
    "sns.heatmap(data.isnull())"
   ]
  },
  {
   "cell_type": "code",
   "execution_count": 5,
   "id": "275d12b8",
   "metadata": {},
   "outputs": [
    {
     "data": {
      "text/html": [
       "<div>\n",
       "<style scoped>\n",
       "    .dataframe tbody tr th:only-of-type {\n",
       "        vertical-align: middle;\n",
       "    }\n",
       "\n",
       "    .dataframe tbody tr th {\n",
       "        vertical-align: top;\n",
       "    }\n",
       "\n",
       "    .dataframe thead th {\n",
       "        text-align: right;\n",
       "    }\n",
       "</style>\n",
       "<table border=\"1\" class=\"dataframe\">\n",
       "  <thead>\n",
       "    <tr style=\"text-align: right;\">\n",
       "      <th></th>\n",
       "      <th>SMOKING</th>\n",
       "      <th>YELLOW FINGERS</th>\n",
       "      <th>ANXIETY</th>\n",
       "      <th>PEER PRESSURE</th>\n",
       "      <th>CHRONIC DISEASE</th>\n",
       "      <th>FATIGUE</th>\n",
       "      <th>ALLERGY</th>\n",
       "      <th>WHEEZING</th>\n",
       "      <th>ALCOHOL CONSUMING</th>\n",
       "      <th>COUGHING</th>\n",
       "      <th>SHORTNESS OF BREATH</th>\n",
       "      <th>SWALLOWING DIFFICULTY</th>\n",
       "      <th>CHEST PAIN</th>\n",
       "      <th>DIAGNOSIS</th>\n",
       "    </tr>\n",
       "  </thead>\n",
       "  <tbody>\n",
       "    <tr>\n",
       "      <th>0</th>\n",
       "      <td>0</td>\n",
       "      <td>1</td>\n",
       "      <td>1</td>\n",
       "      <td>0</td>\n",
       "      <td>0</td>\n",
       "      <td>1</td>\n",
       "      <td>0</td>\n",
       "      <td>1</td>\n",
       "      <td>1</td>\n",
       "      <td>1</td>\n",
       "      <td>1</td>\n",
       "      <td>1</td>\n",
       "      <td>1</td>\n",
       "      <td>1</td>\n",
       "    </tr>\n",
       "    <tr>\n",
       "      <th>1</th>\n",
       "      <td>1</td>\n",
       "      <td>0</td>\n",
       "      <td>0</td>\n",
       "      <td>0</td>\n",
       "      <td>1</td>\n",
       "      <td>1</td>\n",
       "      <td>1</td>\n",
       "      <td>0</td>\n",
       "      <td>0</td>\n",
       "      <td>0</td>\n",
       "      <td>1</td>\n",
       "      <td>1</td>\n",
       "      <td>1</td>\n",
       "      <td>1</td>\n",
       "    </tr>\n",
       "    <tr>\n",
       "      <th>2</th>\n",
       "      <td>0</td>\n",
       "      <td>0</td>\n",
       "      <td>0</td>\n",
       "      <td>1</td>\n",
       "      <td>0</td>\n",
       "      <td>1</td>\n",
       "      <td>0</td>\n",
       "      <td>1</td>\n",
       "      <td>0</td>\n",
       "      <td>1</td>\n",
       "      <td>1</td>\n",
       "      <td>0</td>\n",
       "      <td>1</td>\n",
       "      <td>0</td>\n",
       "    </tr>\n",
       "    <tr>\n",
       "      <th>3</th>\n",
       "      <td>1</td>\n",
       "      <td>1</td>\n",
       "      <td>1</td>\n",
       "      <td>0</td>\n",
       "      <td>0</td>\n",
       "      <td>0</td>\n",
       "      <td>0</td>\n",
       "      <td>0</td>\n",
       "      <td>1</td>\n",
       "      <td>0</td>\n",
       "      <td>0</td>\n",
       "      <td>1</td>\n",
       "      <td>1</td>\n",
       "      <td>0</td>\n",
       "    </tr>\n",
       "    <tr>\n",
       "      <th>4</th>\n",
       "      <td>0</td>\n",
       "      <td>1</td>\n",
       "      <td>0</td>\n",
       "      <td>0</td>\n",
       "      <td>0</td>\n",
       "      <td>0</td>\n",
       "      <td>0</td>\n",
       "      <td>1</td>\n",
       "      <td>0</td>\n",
       "      <td>1</td>\n",
       "      <td>1</td>\n",
       "      <td>0</td>\n",
       "      <td>0</td>\n",
       "      <td>0</td>\n",
       "    </tr>\n",
       "  </tbody>\n",
       "</table>\n",
       "</div>"
      ],
      "text/plain": [
       "   SMOKING  YELLOW FINGERS  ANXIETY  PEER PRESSURE  CHRONIC DISEASE  FATIGUE  \\\n",
       "0        0               1        1              0                0        1   \n",
       "1        1               0        0              0                1        1   \n",
       "2        0               0        0              1                0        1   \n",
       "3        1               1        1              0                0        0   \n",
       "4        0               1        0              0                0        0   \n",
       "\n",
       "   ALLERGY  WHEEZING  ALCOHOL CONSUMING  COUGHING  SHORTNESS OF BREATH  \\\n",
       "0        0         1                  1         1                    1   \n",
       "1        1         0                  0         0                    1   \n",
       "2        0         1                  0         1                    1   \n",
       "3        0         0                  1         0                    0   \n",
       "4        0         1                  0         1                    1   \n",
       "\n",
       "   SWALLOWING DIFFICULTY  CHEST PAIN  DIAGNOSIS  \n",
       "0                      1           1          1  \n",
       "1                      1           1          1  \n",
       "2                      0           1          0  \n",
       "3                      1           1          0  \n",
       "4                      0           0          0  "
      ]
     },
     "execution_count": 5,
     "metadata": {},
     "output_type": "execute_result"
    }
   ],
   "source": [
    "# Remove unwanted columns from our dataset\n",
    "data = data.drop([\"GENDER\", \"AGE\"], axis=1)\n",
    "data.head()"
   ]
  },
  {
   "cell_type": "code",
   "execution_count": 6,
   "id": "932e3f43",
   "metadata": {},
   "outputs": [],
   "source": [
    "# Divide the dataset into predictors and target variable\n",
    "\n",
    "# Predictors\n",
    "X = data.drop([\"DIAGNOSIS\"], axis=1)\n",
    "\n",
    "# Target variable\n",
    "y = data[\"DIAGNOSIS\"] "
   ]
  },
  {
   "cell_type": "markdown",
   "id": "40264562",
   "metadata": {},
   "source": [
    "## Normalisation of data - not needed in this case as values are already between 0 and 1"
   ]
  },
  {
   "cell_type": "code",
   "execution_count": 7,
   "id": "721e2561",
   "metadata": {},
   "outputs": [],
   "source": [
    "from sklearn.preprocessing import StandardScaler\n",
    "\n",
    "# Create a scaler object\n",
    "scaler = StandardScaler()\n",
    "\n",
    "# Fit the scaler to the data and transform the data\n",
    "X_scaled = scaler.fit_transform(X)"
   ]
  },
  {
   "cell_type": "code",
   "execution_count": 8,
   "id": "d5115d13",
   "metadata": {},
   "outputs": [
    {
     "data": {
      "text/plain": [
       "array([[-1.13529242,  0.86929961,  1.0032415 , ...,  0.74873631,\n",
       "         1.06350105,  0.892475  ],\n",
       "       [ 0.88083033, -1.15035137, -0.99676897, ...,  0.74873631,\n",
       "         1.06350105,  0.892475  ],\n",
       "       [-1.13529242, -1.15035137, -0.99676897, ...,  0.74873631,\n",
       "        -0.94029056,  0.892475  ],\n",
       "       ...,\n",
       "       [ 0.88083033, -1.15035137, -0.99676897, ..., -1.33558369,\n",
       "        -0.94029056,  0.892475  ],\n",
       "       [ 0.88083033, -1.15035137,  1.0032415 , ...,  0.74873631,\n",
       "        -0.94029056,  0.892475  ],\n",
       "       [-1.13529242, -1.15035137, -0.99676897, ..., -1.33558369,\n",
       "         1.06350105, -1.12047956]])"
      ]
     },
     "execution_count": 8,
     "metadata": {},
     "output_type": "execute_result"
    }
   ],
   "source": [
    "X_scaled"
   ]
  },
  {
   "cell_type": "markdown",
   "id": "76fd6824",
   "metadata": {},
   "source": [
    "## Divide data into training and testing parts"
   ]
  },
  {
   "cell_type": "code",
   "execution_count": 9,
   "id": "e8f2aece",
   "metadata": {},
   "outputs": [],
   "source": [
    "# In this case we will be testing on 30% of the data\n",
    "from sklearn.model_selection import train_test_split\n",
    "\n",
    "X_train, X_test, y_train, y_test = train_test_split(X, y, test_size=0.30, random_state=42)"
   ]
  },
  {
   "cell_type": "markdown",
   "id": "20f69498",
   "metadata": {},
   "source": [
    "## Training the model"
   ]
  },
  {
   "cell_type": "code",
   "execution_count": 10,
   "id": "a554c476",
   "metadata": {},
   "outputs": [],
   "source": [
    "from sklearn.linear_model import LogisticRegression\n",
    "\n",
    "# Create the logistic regression model\n",
    "lr = LogisticRegression()\n",
    "\n",
    "# Train the model on the training data\n",
    "lr.fit(X_train, y_train)\n",
    "\n",
    "# predict the target variable based on the test data\n",
    "y_predict = lr.predict(X_test)"
   ]
  },
  {
   "cell_type": "code",
   "execution_count": 11,
   "id": "ed7adc5b",
   "metadata": {},
   "outputs": [
    {
     "data": {
      "text/plain": [
       "array([1, 1, 1, 1, 1, 1, 1, 1, 1, 1, 1, 1, 1, 1, 1, 1, 1, 1, 1, 1, 1, 1,\n",
       "       1, 1, 1, 1, 1, 1, 1, 1, 1, 1, 1, 1, 1, 1, 1, 1, 1, 1, 1, 1, 1, 1,\n",
       "       1, 1, 1, 1, 0, 1, 1, 1, 1, 1, 1, 1, 1, 1, 1, 1, 1, 1, 1, 1, 1, 1,\n",
       "       1, 1, 1, 1, 1, 1, 1, 0, 1, 0, 1, 1, 1, 1, 0, 1, 1, 1, 1, 1, 1, 1,\n",
       "       1, 1, 0, 1, 1], dtype=int64)"
      ]
     },
     "execution_count": 11,
     "metadata": {},
     "output_type": "execute_result"
    }
   ],
   "source": [
    "y_predict"
   ]
  },
  {
   "cell_type": "code",
   "execution_count": 12,
   "id": "b6de583a",
   "metadata": {},
   "outputs": [
    {
     "data": {
      "text/plain": [
       "288    1\n",
       "9      1\n",
       "57     1\n",
       "60     1\n",
       "25     1\n",
       "      ..\n",
       "172    1\n",
       "250    1\n",
       "19     0\n",
       "146    1\n",
       "79     1\n",
       "Name: DIAGNOSIS, Length: 93, dtype: int64"
      ]
     },
     "execution_count": 12,
     "metadata": {},
     "output_type": "execute_result"
    }
   ],
   "source": [
    "y_test"
   ]
  },
  {
   "cell_type": "markdown",
   "id": "824d380d",
   "metadata": {},
   "source": [
    "## Evaluation of the model"
   ]
  },
  {
   "cell_type": "code",
   "execution_count": 13,
   "id": "600305d3",
   "metadata": {},
   "outputs": [
    {
     "name": "stdout",
     "output_type": "stream",
     "text": [
      "Accuracy:  0.98\n"
     ]
    }
   ],
   "source": [
    "from sklearn.metrics import accuracy_score\n",
    "\n",
    "accuracy = accuracy_score(y_test, y_predict)\n",
    "print(f\"Accuracy: {accuracy: .2f}\")"
   ]
  },
  {
   "cell_type": "code",
   "execution_count": 14,
   "id": "b1e6f661",
   "metadata": {},
   "outputs": [
    {
     "name": "stdout",
     "output_type": "stream",
     "text": [
      "              precision    recall  f1-score   support\n",
      "\n",
      "           0       1.00      0.71      0.83         7\n",
      "           1       0.98      1.00      0.99        86\n",
      "\n",
      "    accuracy                           0.98        93\n",
      "   macro avg       0.99      0.86      0.91        93\n",
      "weighted avg       0.98      0.98      0.98        93\n",
      "\n"
     ]
    }
   ],
   "source": [
    "from sklearn.metrics import classification_report\n",
    "print(classification_report(y_test, y_predict))"
   ]
  },
  {
   "cell_type": "code",
   "execution_count": 15,
   "id": "a953981f",
   "metadata": {},
   "outputs": [
    {
     "data": {
      "text/plain": [
       "0.978494623655914"
      ]
     },
     "execution_count": 15,
     "metadata": {},
     "output_type": "execute_result"
    }
   ],
   "source": [
    "lr.score(X_test, y_test)"
   ]
  },
  {
   "cell_type": "markdown",
   "id": "2ac462dc",
   "metadata": {},
   "source": [
    "## SVM model"
   ]
  },
  {
   "cell_type": "code",
   "execution_count": 16,
   "id": "4832a1ef",
   "metadata": {},
   "outputs": [
    {
     "data": {
      "text/plain": [
       "0.967741935483871"
      ]
     },
     "execution_count": 16,
     "metadata": {},
     "output_type": "execute_result"
    }
   ],
   "source": [
    "from sklearn.svm import SVC\n",
    "\n",
    "# Create the SVM model\n",
    "svm = SVC()\n",
    "\n",
    "# Train the model on the training data\n",
    "svm.fit(X_train, y_train)\n",
    "\n",
    "# predict the target variable based on the test data\n",
    "y_predict = svm.predict(X_test)\n",
    "\n",
    "# Computing the accuracy score using a different method\n",
    "svm.score(X_test, y_test)"
   ]
  },
  {
   "cell_type": "code",
   "execution_count": 17,
   "id": "eb56e234",
   "metadata": {},
   "outputs": [
    {
     "data": {
      "text/plain": [
       "array([1, 1, 1, 1, 1, 1, 1, 1, 1, 1, 1, 1, 1, 1, 1, 1, 1, 1, 1, 1, 0, 1,\n",
       "       1, 1, 1, 1, 1, 1, 1, 1, 1, 1, 1, 1, 1, 1, 1, 1, 1, 1, 1, 1, 1, 1,\n",
       "       1, 1, 1, 1, 0, 1, 1, 1, 1, 1, 1, 1, 1, 1, 1, 1, 1, 1, 1, 1, 1, 1,\n",
       "       1, 1, 1, 1, 1, 1, 1, 0, 1, 0, 1, 1, 1, 1, 0, 1, 1, 1, 1, 1, 1, 1,\n",
       "       1, 1, 0, 1, 1], dtype=int64)"
      ]
     },
     "execution_count": 17,
     "metadata": {},
     "output_type": "execute_result"
    }
   ],
   "source": [
    "y_predict"
   ]
  },
  {
   "cell_type": "code",
   "execution_count": 18,
   "id": "17dc6024",
   "metadata": {},
   "outputs": [
    {
     "data": {
      "text/plain": [
       "288    1\n",
       "9      1\n",
       "57     1\n",
       "60     1\n",
       "25     1\n",
       "      ..\n",
       "172    1\n",
       "250    1\n",
       "19     0\n",
       "146    1\n",
       "79     1\n",
       "Name: DIAGNOSIS, Length: 93, dtype: int64"
      ]
     },
     "execution_count": 18,
     "metadata": {},
     "output_type": "execute_result"
    }
   ],
   "source": [
    "y_test"
   ]
  },
  {
   "cell_type": "markdown",
   "id": "a405fb99",
   "metadata": {},
   "source": [
    "## Artificial Neural Network"
   ]
  },
  {
   "cell_type": "code",
   "execution_count": 19,
   "id": "030918ec",
   "metadata": {},
   "outputs": [],
   "source": [
    "from keras.models import Sequential\n",
    "from keras.layers import Dense\n",
    "from sklearn.metrics import ConfusionMatrixDisplay\n",
    "from sklearn.metrics import confusion_matrix"
   ]
  },
  {
   "cell_type": "code",
   "execution_count": 20,
   "id": "e1ada1ea",
   "metadata": {},
   "outputs": [],
   "source": [
    "input_dim = len(X_train.columns)"
   ]
  },
  {
   "cell_type": "code",
   "execution_count": 73,
   "id": "bada69a8",
   "metadata": {},
   "outputs": [],
   "source": [
    "neurons = 64\n",
    "epochs = 200\n",
    "model = Sequential()"
   ]
  },
  {
   "cell_type": "code",
   "execution_count": 74,
   "id": "b93d98b9",
   "metadata": {},
   "outputs": [],
   "source": [
    "model.add(Dense(neurons, input_dim=input_dim, activation=\"relu\"))\n",
    "model.add(Dense(1, activation=\"sigmoid\"))\n",
    "model.compile(loss=\"binary_crossentropy\", optimizer=\"adam\", metrics=[\"accuracy\"])"
   ]
  },
  {
   "cell_type": "code",
   "execution_count": 75,
   "id": "dd3d8b32",
   "metadata": {},
   "outputs": [
    {
     "name": "stdout",
     "output_type": "stream",
     "text": [
      "Epoch 1/200\n",
      "5/5 [==============================] - 1s 33ms/step - loss: 0.6784 - accuracy: 0.5694 - val_loss: 0.6015 - val_accuracy: 0.7500\n",
      "Epoch 2/200\n",
      "5/5 [==============================] - 0s 4ms/step - loss: 0.5924 - accuracy: 0.7222 - val_loss: 0.5127 - val_accuracy: 0.8611\n",
      "Epoch 3/200\n",
      "5/5 [==============================] - 0s 8ms/step - loss: 0.5241 - accuracy: 0.7639 - val_loss: 0.4420 - val_accuracy: 0.8750\n",
      "Epoch 4/200\n",
      "5/5 [==============================] - 0s 4ms/step - loss: 0.4712 - accuracy: 0.8264 - val_loss: 0.3878 - val_accuracy: 0.9028\n",
      "Epoch 5/200\n",
      "5/5 [==============================] - 0s 8ms/step - loss: 0.4320 - accuracy: 0.8194 - val_loss: 0.3461 - val_accuracy: 0.9028\n",
      "Epoch 6/200\n",
      "5/5 [==============================] - 0s 4ms/step - loss: 0.4022 - accuracy: 0.8264 - val_loss: 0.3145 - val_accuracy: 0.9028\n",
      "Epoch 7/200\n",
      "5/5 [==============================] - 0s 8ms/step - loss: 0.3821 - accuracy: 0.8264 - val_loss: 0.2906 - val_accuracy: 0.9028\n",
      "Epoch 8/200\n",
      "5/5 [==============================] - 0s 4ms/step - loss: 0.3669 - accuracy: 0.8264 - val_loss: 0.2729 - val_accuracy: 0.9028\n",
      "Epoch 9/200\n",
      "5/5 [==============================] - 0s 8ms/step - loss: 0.3574 - accuracy: 0.8264 - val_loss: 0.2595 - val_accuracy: 0.9028\n",
      "Epoch 10/200\n",
      "5/5 [==============================] - 0s 4ms/step - loss: 0.3491 - accuracy: 0.8264 - val_loss: 0.2509 - val_accuracy: 0.9028\n",
      "Epoch 11/200\n",
      "5/5 [==============================] - 0s 5ms/step - loss: 0.3430 - accuracy: 0.8264 - val_loss: 0.2446 - val_accuracy: 0.9028\n",
      "Epoch 12/200\n",
      "5/5 [==============================] - 0s 4ms/step - loss: 0.3390 - accuracy: 0.8264 - val_loss: 0.2397 - val_accuracy: 0.9028\n",
      "Epoch 13/200\n",
      "5/5 [==============================] - 0s 6ms/step - loss: 0.3357 - accuracy: 0.8264 - val_loss: 0.2359 - val_accuracy: 0.9028\n",
      "Epoch 14/200\n",
      "5/5 [==============================] - 0s 6ms/step - loss: 0.3325 - accuracy: 0.8264 - val_loss: 0.2328 - val_accuracy: 0.9028\n",
      "Epoch 15/200\n",
      "5/5 [==============================] - 0s 5ms/step - loss: 0.3296 - accuracy: 0.8264 - val_loss: 0.2306 - val_accuracy: 0.9028\n",
      "Epoch 16/200\n",
      "5/5 [==============================] - 0s 8ms/step - loss: 0.3267 - accuracy: 0.8264 - val_loss: 0.2286 - val_accuracy: 0.9028\n",
      "Epoch 17/200\n",
      "5/5 [==============================] - 0s 4ms/step - loss: 0.3242 - accuracy: 0.8264 - val_loss: 0.2274 - val_accuracy: 0.9028\n",
      "Epoch 18/200\n",
      "5/5 [==============================] - 0s 8ms/step - loss: 0.3217 - accuracy: 0.8264 - val_loss: 0.2267 - val_accuracy: 0.9028\n",
      "Epoch 19/200\n",
      "5/5 [==============================] - 0s 4ms/step - loss: 0.3189 - accuracy: 0.8264 - val_loss: 0.2255 - val_accuracy: 0.9028\n",
      "Epoch 20/200\n",
      "5/5 [==============================] - 0s 8ms/step - loss: 0.3165 - accuracy: 0.8264 - val_loss: 0.2243 - val_accuracy: 0.9028\n",
      "Epoch 21/200\n",
      "5/5 [==============================] - 0s 4ms/step - loss: 0.3139 - accuracy: 0.8264 - val_loss: 0.2233 - val_accuracy: 0.9028\n",
      "Epoch 22/200\n",
      "5/5 [==============================] - 0s 8ms/step - loss: 0.3117 - accuracy: 0.8264 - val_loss: 0.2226 - val_accuracy: 0.9028\n",
      "Epoch 23/200\n",
      "5/5 [==============================] - 0s 4ms/step - loss: 0.3088 - accuracy: 0.8264 - val_loss: 0.2223 - val_accuracy: 0.9028\n",
      "Epoch 24/200\n",
      "5/5 [==============================] - 0s 8ms/step - loss: 0.3063 - accuracy: 0.8264 - val_loss: 0.2220 - val_accuracy: 0.9028\n",
      "Epoch 25/200\n",
      "5/5 [==============================] - 0s 4ms/step - loss: 0.3036 - accuracy: 0.8264 - val_loss: 0.2214 - val_accuracy: 0.9028\n",
      "Epoch 26/200\n",
      "5/5 [==============================] - 0s 8ms/step - loss: 0.3010 - accuracy: 0.8264 - val_loss: 0.2216 - val_accuracy: 0.9028\n",
      "Epoch 27/200\n",
      "5/5 [==============================] - 0s 4ms/step - loss: 0.2985 - accuracy: 0.8264 - val_loss: 0.2214 - val_accuracy: 0.9028\n",
      "Epoch 28/200\n",
      "5/5 [==============================] - 0s 8ms/step - loss: 0.2960 - accuracy: 0.8264 - val_loss: 0.2207 - val_accuracy: 0.9028\n",
      "Epoch 29/200\n",
      "5/5 [==============================] - 0s 4ms/step - loss: 0.2935 - accuracy: 0.8264 - val_loss: 0.2207 - val_accuracy: 0.9028\n",
      "Epoch 30/200\n",
      "5/5 [==============================] - 0s 8ms/step - loss: 0.2909 - accuracy: 0.8264 - val_loss: 0.2207 - val_accuracy: 0.9028\n",
      "Epoch 31/200\n",
      "5/5 [==============================] - 0s 4ms/step - loss: 0.2882 - accuracy: 0.8403 - val_loss: 0.2208 - val_accuracy: 0.8889\n",
      "Epoch 32/200\n",
      "5/5 [==============================] - 0s 6ms/step - loss: 0.2858 - accuracy: 0.8472 - val_loss: 0.2204 - val_accuracy: 0.8889\n",
      "Epoch 33/200\n",
      "5/5 [==============================] - 0s 6ms/step - loss: 0.2831 - accuracy: 0.8472 - val_loss: 0.2194 - val_accuracy: 0.8889\n",
      "Epoch 34/200\n",
      "5/5 [==============================] - 0s 5ms/step - loss: 0.2806 - accuracy: 0.8472 - val_loss: 0.2189 - val_accuracy: 0.8889\n",
      "Epoch 35/200\n",
      "5/5 [==============================] - 0s 7ms/step - loss: 0.2783 - accuracy: 0.8472 - val_loss: 0.2184 - val_accuracy: 0.8889\n",
      "Epoch 36/200\n",
      "5/5 [==============================] - 0s 5ms/step - loss: 0.2760 - accuracy: 0.8542 - val_loss: 0.2181 - val_accuracy: 0.8889\n",
      "Epoch 37/200\n",
      "5/5 [==============================] - 0s 7ms/step - loss: 0.2733 - accuracy: 0.8611 - val_loss: 0.2178 - val_accuracy: 0.9028\n",
      "Epoch 38/200\n",
      "5/5 [==============================] - 0s 4ms/step - loss: 0.2710 - accuracy: 0.8611 - val_loss: 0.2174 - val_accuracy: 0.9028\n",
      "Epoch 39/200\n",
      "5/5 [==============================] - 0s 8ms/step - loss: 0.2685 - accuracy: 0.8681 - val_loss: 0.2167 - val_accuracy: 0.9028\n",
      "Epoch 40/200\n",
      "5/5 [==============================] - 0s 4ms/step - loss: 0.2659 - accuracy: 0.8681 - val_loss: 0.2164 - val_accuracy: 0.9028\n",
      "Epoch 41/200\n",
      "5/5 [==============================] - 0s 8ms/step - loss: 0.2635 - accuracy: 0.8681 - val_loss: 0.2169 - val_accuracy: 0.9028\n",
      "Epoch 42/200\n",
      "5/5 [==============================] - 0s 4ms/step - loss: 0.2618 - accuracy: 0.8611 - val_loss: 0.2178 - val_accuracy: 0.9028\n",
      "Epoch 43/200\n",
      "5/5 [==============================] - 0s 8ms/step - loss: 0.2593 - accuracy: 0.8819 - val_loss: 0.2175 - val_accuracy: 0.9028\n",
      "Epoch 44/200\n",
      "5/5 [==============================] - 0s 4ms/step - loss: 0.2567 - accuracy: 0.8819 - val_loss: 0.2166 - val_accuracy: 0.8750\n",
      "Epoch 45/200\n",
      "5/5 [==============================] - 0s 8ms/step - loss: 0.2546 - accuracy: 0.8958 - val_loss: 0.2167 - val_accuracy: 0.8750\n",
      "Epoch 46/200\n",
      "5/5 [==============================] - 0s 4ms/step - loss: 0.2522 - accuracy: 0.8958 - val_loss: 0.2161 - val_accuracy: 0.8750\n",
      "Epoch 47/200\n",
      "5/5 [==============================] - 0s 8ms/step - loss: 0.2498 - accuracy: 0.8958 - val_loss: 0.2148 - val_accuracy: 0.8889\n",
      "Epoch 48/200\n",
      "5/5 [==============================] - 0s 4ms/step - loss: 0.2478 - accuracy: 0.8958 - val_loss: 0.2145 - val_accuracy: 0.8889\n",
      "Epoch 49/200\n",
      "5/5 [==============================] - 0s 8ms/step - loss: 0.2456 - accuracy: 0.8958 - val_loss: 0.2141 - val_accuracy: 0.8889\n",
      "Epoch 50/200\n",
      "5/5 [==============================] - 0s 7ms/step - loss: 0.2434 - accuracy: 0.8958 - val_loss: 0.2137 - val_accuracy: 0.8889\n",
      "Epoch 51/200\n",
      "5/5 [==============================] - 0s 4ms/step - loss: 0.2415 - accuracy: 0.8958 - val_loss: 0.2131 - val_accuracy: 0.8889\n",
      "Epoch 52/200\n",
      "5/5 [==============================] - 0s 8ms/step - loss: 0.2392 - accuracy: 0.8958 - val_loss: 0.2119 - val_accuracy: 0.8889\n",
      "Epoch 53/200\n",
      "5/5 [==============================] - 0s 6ms/step - loss: 0.2373 - accuracy: 0.8958 - val_loss: 0.2109 - val_accuracy: 0.8889\n",
      "Epoch 54/200\n",
      "5/5 [==============================] - 0s 5ms/step - loss: 0.2353 - accuracy: 0.8958 - val_loss: 0.2109 - val_accuracy: 0.8889\n",
      "Epoch 55/200\n",
      "5/5 [==============================] - 0s 4ms/step - loss: 0.2337 - accuracy: 0.8958 - val_loss: 0.2120 - val_accuracy: 0.8889\n",
      "Epoch 56/200\n",
      "5/5 [==============================] - 0s 8ms/step - loss: 0.2312 - accuracy: 0.8958 - val_loss: 0.2123 - val_accuracy: 0.8889\n",
      "Epoch 57/200\n",
      "5/5 [==============================] - 0s 4ms/step - loss: 0.2292 - accuracy: 0.8958 - val_loss: 0.2118 - val_accuracy: 0.8889\n",
      "Epoch 58/200\n",
      "5/5 [==============================] - 0s 8ms/step - loss: 0.2275 - accuracy: 0.8958 - val_loss: 0.2129 - val_accuracy: 0.8889\n",
      "Epoch 59/200\n",
      "5/5 [==============================] - 0s 5ms/step - loss: 0.2255 - accuracy: 0.8889 - val_loss: 0.2132 - val_accuracy: 0.8889\n",
      "Epoch 60/200\n",
      "5/5 [==============================] - 0s 8ms/step - loss: 0.2235 - accuracy: 0.8889 - val_loss: 0.2131 - val_accuracy: 0.8889\n",
      "Epoch 61/200\n",
      "5/5 [==============================] - 0s 3ms/step - loss: 0.2215 - accuracy: 0.8889 - val_loss: 0.2130 - val_accuracy: 0.8889\n",
      "Epoch 62/200\n",
      "5/5 [==============================] - 0s 9ms/step - loss: 0.2199 - accuracy: 0.8889 - val_loss: 0.2129 - val_accuracy: 0.8889\n",
      "Epoch 63/200\n",
      "5/5 [==============================] - 0s 3ms/step - loss: 0.2182 - accuracy: 0.8889 - val_loss: 0.2127 - val_accuracy: 0.8889\n",
      "Epoch 64/200\n",
      "5/5 [==============================] - 0s 9ms/step - loss: 0.2162 - accuracy: 0.8889 - val_loss: 0.2119 - val_accuracy: 0.8889\n",
      "Epoch 65/200\n",
      "5/5 [==============================] - 0s 3ms/step - loss: 0.2145 - accuracy: 0.8889 - val_loss: 0.2118 - val_accuracy: 0.8889\n",
      "Epoch 66/200\n",
      "5/5 [==============================] - 0s 9ms/step - loss: 0.2127 - accuracy: 0.8889 - val_loss: 0.2113 - val_accuracy: 0.8889\n",
      "Epoch 67/200\n",
      "5/5 [==============================] - 0s 3ms/step - loss: 0.2109 - accuracy: 0.8889 - val_loss: 0.2107 - val_accuracy: 0.8889\n",
      "Epoch 68/200\n",
      "5/5 [==============================] - 0s 9ms/step - loss: 0.2092 - accuracy: 0.8889 - val_loss: 0.2096 - val_accuracy: 0.8889\n",
      "Epoch 69/200\n",
      "5/5 [==============================] - 0s 3ms/step - loss: 0.2074 - accuracy: 0.8958 - val_loss: 0.2083 - val_accuracy: 0.8889\n",
      "Epoch 70/200\n",
      "5/5 [==============================] - 0s 8ms/step - loss: 0.2058 - accuracy: 0.8958 - val_loss: 0.2080 - val_accuracy: 0.8889\n",
      "Epoch 71/200\n",
      "5/5 [==============================] - 0s 4ms/step - loss: 0.2042 - accuracy: 0.8958 - val_loss: 0.2077 - val_accuracy: 0.8889\n",
      "Epoch 72/200\n",
      "5/5 [==============================] - 0s 6ms/step - loss: 0.2027 - accuracy: 0.8958 - val_loss: 0.2087 - val_accuracy: 0.8889\n",
      "Epoch 73/200\n",
      "5/5 [==============================] - 0s 6ms/step - loss: 0.2013 - accuracy: 0.9028 - val_loss: 0.2099 - val_accuracy: 0.8889\n",
      "Epoch 74/200\n",
      "5/5 [==============================] - 0s 5ms/step - loss: 0.1992 - accuracy: 0.9028 - val_loss: 0.2091 - val_accuracy: 0.8889\n",
      "Epoch 75/200\n",
      "5/5 [==============================] - 0s 4ms/step - loss: 0.1977 - accuracy: 0.9028 - val_loss: 0.2086 - val_accuracy: 0.8889\n",
      "Epoch 76/200\n",
      "5/5 [==============================] - 0s 5ms/step - loss: 0.1961 - accuracy: 0.9028 - val_loss: 0.2085 - val_accuracy: 0.8889\n",
      "Epoch 77/200\n",
      "5/5 [==============================] - 0s 4ms/step - loss: 0.1945 - accuracy: 0.9097 - val_loss: 0.2089 - val_accuracy: 0.8889\n",
      "Epoch 78/200\n",
      "5/5 [==============================] - 0s 5ms/step - loss: 0.1933 - accuracy: 0.9097 - val_loss: 0.2096 - val_accuracy: 0.8889\n",
      "Epoch 79/200\n",
      "5/5 [==============================] - 0s 4ms/step - loss: 0.1918 - accuracy: 0.9097 - val_loss: 0.2103 - val_accuracy: 0.8889\n",
      "Epoch 80/200\n",
      "5/5 [==============================] - 0s 5ms/step - loss: 0.1905 - accuracy: 0.9097 - val_loss: 0.2115 - val_accuracy: 0.8889\n",
      "Epoch 81/200\n",
      "5/5 [==============================] - 0s 4ms/step - loss: 0.1895 - accuracy: 0.9097 - val_loss: 0.2126 - val_accuracy: 0.9028\n",
      "Epoch 82/200\n",
      "5/5 [==============================] - 0s 5ms/step - loss: 0.1883 - accuracy: 0.9167 - val_loss: 0.2113 - val_accuracy: 0.9028\n",
      "Epoch 83/200\n",
      "5/5 [==============================] - 0s 4ms/step - loss: 0.1870 - accuracy: 0.9097 - val_loss: 0.2108 - val_accuracy: 0.9028\n",
      "Epoch 84/200\n",
      "5/5 [==============================] - 0s 5ms/step - loss: 0.1858 - accuracy: 0.9097 - val_loss: 0.2101 - val_accuracy: 0.9028\n",
      "Epoch 85/200\n",
      "5/5 [==============================] - 0s 4ms/step - loss: 0.1847 - accuracy: 0.9097 - val_loss: 0.2088 - val_accuracy: 0.9028\n",
      "Epoch 86/200\n",
      "5/5 [==============================] - 0s 5ms/step - loss: 0.1834 - accuracy: 0.9097 - val_loss: 0.2087 - val_accuracy: 0.9028\n",
      "Epoch 87/200\n",
      "5/5 [==============================] - 0s 7ms/step - loss: 0.1826 - accuracy: 0.9097 - val_loss: 0.2092 - val_accuracy: 0.9028\n",
      "Epoch 88/200\n",
      "5/5 [==============================] - 0s 4ms/step - loss: 0.1811 - accuracy: 0.9097 - val_loss: 0.2089 - val_accuracy: 0.9028\n",
      "Epoch 89/200\n",
      "5/5 [==============================] - 0s 7ms/step - loss: 0.1800 - accuracy: 0.9097 - val_loss: 0.2086 - val_accuracy: 0.9028\n",
      "Epoch 90/200\n",
      "5/5 [==============================] - 0s 4ms/step - loss: 0.1791 - accuracy: 0.9097 - val_loss: 0.2084 - val_accuracy: 0.9028\n",
      "Epoch 91/200\n",
      "5/5 [==============================] - 0s 8ms/step - loss: 0.1778 - accuracy: 0.9097 - val_loss: 0.2084 - val_accuracy: 0.9028\n",
      "Epoch 92/200\n",
      "5/5 [==============================] - 0s 5ms/step - loss: 0.1768 - accuracy: 0.9097 - val_loss: 0.2087 - val_accuracy: 0.9028\n",
      "Epoch 93/200\n",
      "5/5 [==============================] - 0s 6ms/step - loss: 0.1758 - accuracy: 0.9097 - val_loss: 0.2087 - val_accuracy: 0.9028\n",
      "Epoch 94/200\n",
      "5/5 [==============================] - 0s 4ms/step - loss: 0.1745 - accuracy: 0.9097 - val_loss: 0.2082 - val_accuracy: 0.9028\n",
      "Epoch 95/200\n",
      "5/5 [==============================] - 0s 9ms/step - loss: 0.1737 - accuracy: 0.9097 - val_loss: 0.2070 - val_accuracy: 0.9028\n",
      "Epoch 96/200\n",
      "5/5 [==============================] - 0s 3ms/step - loss: 0.1723 - accuracy: 0.9097 - val_loss: 0.2074 - val_accuracy: 0.9167\n",
      "Epoch 97/200\n",
      "5/5 [==============================] - 0s 5ms/step - loss: 0.1713 - accuracy: 0.9236 - val_loss: 0.2080 - val_accuracy: 0.9167\n",
      "Epoch 98/200\n",
      "5/5 [==============================] - 0s 4ms/step - loss: 0.1706 - accuracy: 0.9236 - val_loss: 0.2097 - val_accuracy: 0.9167\n",
      "Epoch 99/200\n",
      "5/5 [==============================] - 0s 5ms/step - loss: 0.1693 - accuracy: 0.9236 - val_loss: 0.2092 - val_accuracy: 0.9167\n",
      "Epoch 100/200\n",
      "5/5 [==============================] - 0s 4ms/step - loss: 0.1683 - accuracy: 0.9236 - val_loss: 0.2084 - val_accuracy: 0.9167\n",
      "Epoch 101/200\n",
      "5/5 [==============================] - 0s 5ms/step - loss: 0.1674 - accuracy: 0.9236 - val_loss: 0.2077 - val_accuracy: 0.9167\n",
      "Epoch 102/200\n",
      "5/5 [==============================] - 0s 4ms/step - loss: 0.1665 - accuracy: 0.9236 - val_loss: 0.2072 - val_accuracy: 0.9167\n",
      "Epoch 103/200\n",
      "5/5 [==============================] - 0s 5ms/step - loss: 0.1657 - accuracy: 0.9236 - val_loss: 0.2077 - val_accuracy: 0.9167\n",
      "Epoch 104/200\n",
      "5/5 [==============================] - 0s 7ms/step - loss: 0.1646 - accuracy: 0.9236 - val_loss: 0.2068 - val_accuracy: 0.9167\n",
      "Epoch 105/200\n",
      "5/5 [==============================] - 0s 5ms/step - loss: 0.1637 - accuracy: 0.9236 - val_loss: 0.2073 - val_accuracy: 0.9167\n",
      "Epoch 106/200\n",
      "5/5 [==============================] - 0s 7ms/step - loss: 0.1626 - accuracy: 0.9236 - val_loss: 0.2074 - val_accuracy: 0.9167\n",
      "Epoch 107/200\n",
      "5/5 [==============================] - 0s 5ms/step - loss: 0.1617 - accuracy: 0.9236 - val_loss: 0.2064 - val_accuracy: 0.9167\n",
      "Epoch 108/200\n",
      "5/5 [==============================] - 0s 7ms/step - loss: 0.1609 - accuracy: 0.9236 - val_loss: 0.2055 - val_accuracy: 0.9167\n",
      "Epoch 109/200\n",
      "5/5 [==============================] - 0s 5ms/step - loss: 0.1600 - accuracy: 0.9306 - val_loss: 0.2055 - val_accuracy: 0.9167\n",
      "Epoch 110/200\n",
      "5/5 [==============================] - 0s 8ms/step - loss: 0.1590 - accuracy: 0.9306 - val_loss: 0.2058 - val_accuracy: 0.9167\n",
      "Epoch 111/200\n",
      "5/5 [==============================] - 0s 5ms/step - loss: 0.1583 - accuracy: 0.9306 - val_loss: 0.2057 - val_accuracy: 0.9167\n",
      "Epoch 112/200\n",
      "5/5 [==============================] - 0s 6ms/step - loss: 0.1579 - accuracy: 0.9306 - val_loss: 0.2044 - val_accuracy: 0.9167\n",
      "Epoch 113/200\n",
      "5/5 [==============================] - 0s 4ms/step - loss: 0.1567 - accuracy: 0.9375 - val_loss: 0.2064 - val_accuracy: 0.9167\n",
      "Epoch 114/200\n",
      "5/5 [==============================] - 0s 8ms/step - loss: 0.1555 - accuracy: 0.9375 - val_loss: 0.2067 - val_accuracy: 0.9167\n",
      "Epoch 115/200\n",
      "5/5 [==============================] - 0s 4ms/step - loss: 0.1545 - accuracy: 0.9375 - val_loss: 0.2065 - val_accuracy: 0.9167\n",
      "Epoch 116/200\n",
      "5/5 [==============================] - 0s 8ms/step - loss: 0.1538 - accuracy: 0.9375 - val_loss: 0.2048 - val_accuracy: 0.9167\n",
      "Epoch 117/200\n",
      "5/5 [==============================] - 0s 4ms/step - loss: 0.1529 - accuracy: 0.9375 - val_loss: 0.2044 - val_accuracy: 0.9167\n",
      "Epoch 118/200\n",
      "5/5 [==============================] - 0s 8ms/step - loss: 0.1523 - accuracy: 0.9375 - val_loss: 0.2051 - val_accuracy: 0.9167\n",
      "Epoch 119/200\n",
      "5/5 [==============================] - 0s 3ms/step - loss: 0.1513 - accuracy: 0.9375 - val_loss: 0.2049 - val_accuracy: 0.9167\n",
      "Epoch 120/200\n",
      "5/5 [==============================] - 0s 8ms/step - loss: 0.1504 - accuracy: 0.9375 - val_loss: 0.2055 - val_accuracy: 0.9167\n",
      "Epoch 121/200\n",
      "5/5 [==============================] - 0s 4ms/step - loss: 0.1498 - accuracy: 0.9444 - val_loss: 0.2068 - val_accuracy: 0.9167\n",
      "Epoch 122/200\n",
      "5/5 [==============================] - 0s 8ms/step - loss: 0.1489 - accuracy: 0.9444 - val_loss: 0.2068 - val_accuracy: 0.9167\n",
      "Epoch 123/200\n",
      "5/5 [==============================] - 0s 4ms/step - loss: 0.1484 - accuracy: 0.9444 - val_loss: 0.2076 - val_accuracy: 0.9167\n",
      "Epoch 124/200\n",
      "5/5 [==============================] - 0s 5ms/step - loss: 0.1474 - accuracy: 0.9444 - val_loss: 0.2072 - val_accuracy: 0.9167\n",
      "Epoch 125/200\n",
      "5/5 [==============================] - 0s 4ms/step - loss: 0.1468 - accuracy: 0.9444 - val_loss: 0.2076 - val_accuracy: 0.9167\n",
      "Epoch 126/200\n",
      "5/5 [==============================] - 0s 5ms/step - loss: 0.1461 - accuracy: 0.9444 - val_loss: 0.2063 - val_accuracy: 0.9167\n",
      "Epoch 127/200\n",
      "5/5 [==============================] - 0s 4ms/step - loss: 0.1455 - accuracy: 0.9444 - val_loss: 0.2056 - val_accuracy: 0.9167\n",
      "Epoch 128/200\n",
      "5/5 [==============================] - 0s 5ms/step - loss: 0.1444 - accuracy: 0.9444 - val_loss: 0.2067 - val_accuracy: 0.9167\n",
      "Epoch 129/200\n",
      "5/5 [==============================] - 0s 4ms/step - loss: 0.1438 - accuracy: 0.9444 - val_loss: 0.2077 - val_accuracy: 0.9167\n",
      "Epoch 130/200\n",
      "5/5 [==============================] - 0s 5ms/step - loss: 0.1429 - accuracy: 0.9444 - val_loss: 0.2082 - val_accuracy: 0.9167\n",
      "Epoch 131/200\n",
      "5/5 [==============================] - 0s 7ms/step - loss: 0.1422 - accuracy: 0.9444 - val_loss: 0.2087 - val_accuracy: 0.9167\n",
      "Epoch 132/200\n",
      "5/5 [==============================] - 0s 6ms/step - loss: 0.1416 - accuracy: 0.9444 - val_loss: 0.2090 - val_accuracy: 0.9167\n",
      "Epoch 133/200\n",
      "5/5 [==============================] - 0s 3ms/step - loss: 0.1410 - accuracy: 0.9444 - val_loss: 0.2076 - val_accuracy: 0.9167\n",
      "Epoch 134/200\n",
      "5/5 [==============================] - 0s 5ms/step - loss: 0.1404 - accuracy: 0.9444 - val_loss: 0.2072 - val_accuracy: 0.9167\n",
      "Epoch 135/200\n",
      "5/5 [==============================] - 0s 4ms/step - loss: 0.1403 - accuracy: 0.9444 - val_loss: 0.2062 - val_accuracy: 0.9167\n",
      "Epoch 136/200\n",
      "5/5 [==============================] - 0s 5ms/step - loss: 0.1392 - accuracy: 0.9444 - val_loss: 0.2075 - val_accuracy: 0.9167\n",
      "Epoch 137/200\n",
      "5/5 [==============================] - 0s 7ms/step - loss: 0.1380 - accuracy: 0.9444 - val_loss: 0.2083 - val_accuracy: 0.9306\n",
      "Epoch 138/200\n",
      "5/5 [==============================] - 0s 5ms/step - loss: 0.1375 - accuracy: 0.9444 - val_loss: 0.2091 - val_accuracy: 0.9306\n",
      "Epoch 139/200\n",
      "5/5 [==============================] - 0s 7ms/step - loss: 0.1372 - accuracy: 0.9444 - val_loss: 0.2093 - val_accuracy: 0.9306\n",
      "Epoch 140/200\n",
      "5/5 [==============================] - 0s 4ms/step - loss: 0.1367 - accuracy: 0.9514 - val_loss: 0.2088 - val_accuracy: 0.9306\n",
      "Epoch 141/200\n",
      "5/5 [==============================] - 0s 8ms/step - loss: 0.1359 - accuracy: 0.9514 - val_loss: 0.2090 - val_accuracy: 0.9306\n",
      "Epoch 142/200\n",
      "5/5 [==============================] - 0s 4ms/step - loss: 0.1351 - accuracy: 0.9514 - val_loss: 0.2084 - val_accuracy: 0.9306\n",
      "Epoch 143/200\n",
      "5/5 [==============================] - 0s 8ms/step - loss: 0.1353 - accuracy: 0.9514 - val_loss: 0.2067 - val_accuracy: 0.9306\n",
      "Epoch 144/200\n",
      "5/5 [==============================] - 0s 4ms/step - loss: 0.1342 - accuracy: 0.9514 - val_loss: 0.2068 - val_accuracy: 0.9306\n",
      "Epoch 145/200\n",
      "5/5 [==============================] - 0s 6ms/step - loss: 0.1337 - accuracy: 0.9514 - val_loss: 0.2088 - val_accuracy: 0.9306\n",
      "Epoch 146/200\n",
      "5/5 [==============================] - 0s 4ms/step - loss: 0.1329 - accuracy: 0.9514 - val_loss: 0.2092 - val_accuracy: 0.9306\n",
      "Epoch 147/200\n",
      "5/5 [==============================] - 0s 8ms/step - loss: 0.1327 - accuracy: 0.9514 - val_loss: 0.2103 - val_accuracy: 0.9306\n",
      "Epoch 148/200\n",
      "5/5 [==============================] - 0s 4ms/step - loss: 0.1317 - accuracy: 0.9514 - val_loss: 0.2094 - val_accuracy: 0.9306\n",
      "Epoch 149/200\n",
      "5/5 [==============================] - 0s 8ms/step - loss: 0.1308 - accuracy: 0.9514 - val_loss: 0.2093 - val_accuracy: 0.9306\n",
      "Epoch 150/200\n",
      "5/5 [==============================] - 0s 4ms/step - loss: 0.1303 - accuracy: 0.9514 - val_loss: 0.2090 - val_accuracy: 0.9306\n",
      "Epoch 151/200\n",
      "5/5 [==============================] - 0s 8ms/step - loss: 0.1299 - accuracy: 0.9514 - val_loss: 0.2099 - val_accuracy: 0.9306\n",
      "Epoch 152/200\n",
      "5/5 [==============================] - 0s 5ms/step - loss: 0.1294 - accuracy: 0.9514 - val_loss: 0.2091 - val_accuracy: 0.9306\n",
      "Epoch 153/200\n",
      "5/5 [==============================] - 0s 6ms/step - loss: 0.1287 - accuracy: 0.9514 - val_loss: 0.2092 - val_accuracy: 0.9306\n",
      "Epoch 154/200\n",
      "5/5 [==============================] - 0s 4ms/step - loss: 0.1281 - accuracy: 0.9514 - val_loss: 0.2095 - val_accuracy: 0.9306\n",
      "Epoch 155/200\n",
      "5/5 [==============================] - 0s 8ms/step - loss: 0.1276 - accuracy: 0.9514 - val_loss: 0.2099 - val_accuracy: 0.9306\n",
      "Epoch 156/200\n",
      "5/5 [==============================] - 0s 4ms/step - loss: 0.1269 - accuracy: 0.9514 - val_loss: 0.2117 - val_accuracy: 0.9306\n",
      "Epoch 157/200\n",
      "5/5 [==============================] - 0s 8ms/step - loss: 0.1269 - accuracy: 0.9514 - val_loss: 0.2135 - val_accuracy: 0.9306\n",
      "Epoch 158/200\n",
      "5/5 [==============================] - 0s 4ms/step - loss: 0.1260 - accuracy: 0.9514 - val_loss: 0.2135 - val_accuracy: 0.9306\n",
      "Epoch 159/200\n",
      "5/5 [==============================] - 0s 8ms/step - loss: 0.1257 - accuracy: 0.9514 - val_loss: 0.2123 - val_accuracy: 0.9306\n",
      "Epoch 160/200\n",
      "5/5 [==============================] - 0s 4ms/step - loss: 0.1249 - accuracy: 0.9514 - val_loss: 0.2129 - val_accuracy: 0.9306\n",
      "Epoch 161/200\n",
      "5/5 [==============================] - 0s 8ms/step - loss: 0.1245 - accuracy: 0.9514 - val_loss: 0.2141 - val_accuracy: 0.9306\n",
      "Epoch 162/200\n",
      "5/5 [==============================] - 0s 5ms/step - loss: 0.1241 - accuracy: 0.9514 - val_loss: 0.2137 - val_accuracy: 0.9306\n",
      "Epoch 163/200\n",
      "5/5 [==============================] - 0s 8ms/step - loss: 0.1235 - accuracy: 0.9514 - val_loss: 0.2149 - val_accuracy: 0.9306\n",
      "Epoch 164/200\n",
      "5/5 [==============================] - 0s 4ms/step - loss: 0.1230 - accuracy: 0.9514 - val_loss: 0.2152 - val_accuracy: 0.9306\n",
      "Epoch 165/200\n",
      "5/5 [==============================] - 0s 8ms/step - loss: 0.1225 - accuracy: 0.9514 - val_loss: 0.2155 - val_accuracy: 0.9306\n",
      "Epoch 166/200\n",
      "5/5 [==============================] - 0s 4ms/step - loss: 0.1219 - accuracy: 0.9514 - val_loss: 0.2150 - val_accuracy: 0.9306\n",
      "Epoch 167/200\n",
      "5/5 [==============================] - 0s 8ms/step - loss: 0.1214 - accuracy: 0.9514 - val_loss: 0.2140 - val_accuracy: 0.9306\n",
      "Epoch 168/200\n",
      "5/5 [==============================] - 0s 4ms/step - loss: 0.1211 - accuracy: 0.9514 - val_loss: 0.2129 - val_accuracy: 0.9306\n",
      "Epoch 169/200\n",
      "5/5 [==============================] - 0s 8ms/step - loss: 0.1207 - accuracy: 0.9583 - val_loss: 0.2130 - val_accuracy: 0.9306\n",
      "Epoch 170/200\n",
      "5/5 [==============================] - 0s 4ms/step - loss: 0.1199 - accuracy: 0.9514 - val_loss: 0.2144 - val_accuracy: 0.9306\n",
      "Epoch 171/200\n",
      "5/5 [==============================] - 0s 9ms/step - loss: 0.1197 - accuracy: 0.9514 - val_loss: 0.2163 - val_accuracy: 0.9306\n",
      "Epoch 172/200\n",
      "5/5 [==============================] - 0s 6ms/step - loss: 0.1193 - accuracy: 0.9514 - val_loss: 0.2167 - val_accuracy: 0.9306\n",
      "Epoch 173/200\n",
      "5/5 [==============================] - 0s 6ms/step - loss: 0.1189 - accuracy: 0.9514 - val_loss: 0.2169 - val_accuracy: 0.9306\n",
      "Epoch 174/200\n",
      "5/5 [==============================] - 0s 5ms/step - loss: 0.1181 - accuracy: 0.9583 - val_loss: 0.2178 - val_accuracy: 0.9306\n",
      "Epoch 175/200\n",
      "5/5 [==============================] - 0s 7ms/step - loss: 0.1184 - accuracy: 0.9583 - val_loss: 0.2171 - val_accuracy: 0.9306\n",
      "Epoch 176/200\n",
      "5/5 [==============================] - 0s 3ms/step - loss: 0.1171 - accuracy: 0.9583 - val_loss: 0.2184 - val_accuracy: 0.9306\n",
      "Epoch 177/200\n",
      "5/5 [==============================] - 0s 9ms/step - loss: 0.1169 - accuracy: 0.9583 - val_loss: 0.2193 - val_accuracy: 0.9306\n",
      "Epoch 178/200\n",
      "5/5 [==============================] - 0s 4ms/step - loss: 0.1166 - accuracy: 0.9583 - val_loss: 0.2189 - val_accuracy: 0.9306\n",
      "Epoch 179/200\n",
      "5/5 [==============================] - 0s 5ms/step - loss: 0.1161 - accuracy: 0.9583 - val_loss: 0.2189 - val_accuracy: 0.9306\n",
      "Epoch 180/200\n",
      "5/5 [==============================] - 0s 4ms/step - loss: 0.1156 - accuracy: 0.9583 - val_loss: 0.2182 - val_accuracy: 0.9306\n",
      "Epoch 181/200\n",
      "5/5 [==============================] - 0s 5ms/step - loss: 0.1150 - accuracy: 0.9583 - val_loss: 0.2184 - val_accuracy: 0.9306\n",
      "Epoch 182/200\n",
      "5/5 [==============================] - 0s 4ms/step - loss: 0.1147 - accuracy: 0.9583 - val_loss: 0.2185 - val_accuracy: 0.9306\n",
      "Epoch 183/200\n",
      "5/5 [==============================] - 0s 5ms/step - loss: 0.1145 - accuracy: 0.9583 - val_loss: 0.2181 - val_accuracy: 0.9306\n",
      "Epoch 184/200\n",
      "5/5 [==============================] - 0s 8ms/step - loss: 0.1137 - accuracy: 0.9583 - val_loss: 0.2191 - val_accuracy: 0.9306\n",
      "Epoch 185/200\n",
      "5/5 [==============================] - 0s 4ms/step - loss: 0.1134 - accuracy: 0.9583 - val_loss: 0.2207 - val_accuracy: 0.9167\n",
      "Epoch 186/200\n",
      "5/5 [==============================] - 0s 8ms/step - loss: 0.1131 - accuracy: 0.9583 - val_loss: 0.2217 - val_accuracy: 0.9167\n",
      "Epoch 187/200\n",
      "5/5 [==============================] - 0s 4ms/step - loss: 0.1128 - accuracy: 0.9583 - val_loss: 0.2223 - val_accuracy: 0.9167\n",
      "Epoch 188/200\n",
      "5/5 [==============================] - 0s 8ms/step - loss: 0.1124 - accuracy: 0.9583 - val_loss: 0.2215 - val_accuracy: 0.9167\n",
      "Epoch 189/200\n",
      "5/5 [==============================] - 0s 4ms/step - loss: 0.1120 - accuracy: 0.9583 - val_loss: 0.2220 - val_accuracy: 0.9167\n",
      "Epoch 190/200\n",
      "5/5 [==============================] - 0s 8ms/step - loss: 0.1118 - accuracy: 0.9583 - val_loss: 0.2234 - val_accuracy: 0.9167\n",
      "Epoch 191/200\n",
      "5/5 [==============================] - 0s 6ms/step - loss: 0.1112 - accuracy: 0.9583 - val_loss: 0.2241 - val_accuracy: 0.9167\n",
      "Epoch 192/200\n",
      "5/5 [==============================] - 0s 6ms/step - loss: 0.1111 - accuracy: 0.9583 - val_loss: 0.2223 - val_accuracy: 0.9306\n",
      "Epoch 193/200\n",
      "5/5 [==============================] - 0s 4ms/step - loss: 0.1105 - accuracy: 0.9583 - val_loss: 0.2213 - val_accuracy: 0.9306\n",
      "Epoch 194/200\n",
      "5/5 [==============================] - 0s 8ms/step - loss: 0.1098 - accuracy: 0.9583 - val_loss: 0.2218 - val_accuracy: 0.9306\n",
      "Epoch 195/200\n",
      "5/5 [==============================] - 0s 4ms/step - loss: 0.1097 - accuracy: 0.9583 - val_loss: 0.2217 - val_accuracy: 0.9306\n",
      "Epoch 196/200\n",
      "5/5 [==============================] - 0s 8ms/step - loss: 0.1093 - accuracy: 0.9583 - val_loss: 0.2221 - val_accuracy: 0.9306\n",
      "Epoch 197/200\n",
      "5/5 [==============================] - 0s 4ms/step - loss: 0.1088 - accuracy: 0.9583 - val_loss: 0.2237 - val_accuracy: 0.9306\n",
      "Epoch 198/200\n",
      "5/5 [==============================] - 0s 8ms/step - loss: 0.1085 - accuracy: 0.9583 - val_loss: 0.2245 - val_accuracy: 0.9167\n",
      "Epoch 199/200\n",
      "5/5 [==============================] - 0s 4ms/step - loss: 0.1081 - accuracy: 0.9583 - val_loss: 0.2246 - val_accuracy: 0.9306\n",
      "Epoch 200/200\n",
      "5/5 [==============================] - 0s 8ms/step - loss: 0.1078 - accuracy: 0.9583 - val_loss: 0.2244 - val_accuracy: 0.9306\n",
      "3/3 [==============================] - 0s 2ms/step\n"
     ]
    }
   ],
   "source": [
    "history = model.fit(X_train, y_train, epochs=epochs, verbose=1, validation_split=0.33)\n",
    "predictions = model.predict(X_test)"
   ]
  },
  {
   "cell_type": "code",
   "execution_count": 78,
   "id": "f619b2b9",
   "metadata": {},
   "outputs": [],
   "source": [
    "predictions = (predictions > 0.5)*1"
   ]
  },
  {
   "cell_type": "code",
   "execution_count": 79,
   "id": "ffcd93ef",
   "metadata": {},
   "outputs": [],
   "source": [
    "output = pd.DataFrame({\"DIAGNOSIS\":predictions.flatten()})\n",
    "output.to_csv(\"predict.csv\", index = False)"
   ]
  },
  {
   "cell_type": "code",
   "execution_count": 80,
   "id": "c5298c25",
   "metadata": {},
   "outputs": [
    {
     "name": "stdout",
     "output_type": "stream",
     "text": [
      "[0.10277282446622849, 0.9677419066429138]\n"
     ]
    }
   ],
   "source": [
    "scores = model.evaluate(X_test, y_test, verbose=0)\n",
    "print(scores)"
   ]
  },
  {
   "cell_type": "code",
   "execution_count": 81,
   "id": "3895b45e",
   "metadata": {},
   "outputs": [
    {
     "data": {
      "text/plain": [
       "0.967741935483871"
      ]
     },
     "execution_count": 81,
     "metadata": {},
     "output_type": "execute_result"
    }
   ],
   "source": [
    "score = accuracy_score(y_test, predictions)\n",
    "score"
   ]
  },
  {
   "cell_type": "code",
   "execution_count": 46,
   "id": "332e584a",
   "metadata": {},
   "outputs": [
    {
     "data": {
      "image/png": "[encoded data removed]",
      "text/plain": [
       "<Figure size 432x288 with 2 Axes>"
      ]
     },
     "metadata": {
      "needs_background": "light"
     },
     "output_type": "display_data"
    }
   ],
   "source": [
    "cfm = confusion_matrix(y_test, predictions)\n",
    "disp = ConfusionMatrixDisplay(cfm)\n",
    "disp.plot()\n",
    "plt.gca().invert_yaxis()\n",
    "plt.show()"
   ]
  },
  {
   "cell_type": "code",
   "execution_count": 47,
   "id": "b2a1c9cf",
   "metadata": {},
   "outputs": [
    {
     "data": {
      "image/png": "[encoded data removed]",
      "text/plain": [
       "<Figure size 432x288 with 1 Axes>"
      ]
     },
     "metadata": {
      "needs_background": "light"
     },
     "output_type": "display_data"
    }
   ],
   "source": [
    "plt.plot(history.history[\"accuracy\"])\n",
    "plt.plot(history.history[\"val_accuracy\"])\n",
    "plt.title(\"ANN Model Accuracy\")\n",
    "plt.ylabel(\"accuracy\")\n",
    "plt.xlabel(\"epoch\")\n",
    "plt.legend([\"train\", \"test\"], loc=\"upper left\")\n",
    "plt.show()"
   ]
  },
  {
   "cell_type": "code",
   "execution_count": 48,
   "id": "ddea8790",
   "metadata": {},
   "outputs": [
    {
     "data": {
      "image/png": "[encoded data removed]",
      "text/plain": [
       "<Figure size 432x288 with 1 Axes>"
      ]
     },
     "metadata": {
      "needs_background": "light"
     },
     "output_type": "display_data"
    }
   ],
   "source": [
    "plt.plot(history.history[\"loss\"])\n",
    "plt.plot(history.history[\"val_loss\"])\n",
    "plt.title(\"ANN Model Loss\")\n",
    "plt.ylabel(\"loss\")\n",
    "plt.xlabel(\"epoch\")\n",
    "plt.legend([\"train\", \"test\"], loc=\"upper right\")\n",
    "plt.show()"
   ]
  },
  {
   "cell_type": "code",
   "execution_count": null,
   "id": "f6d3bbf8",
   "metadata": {},
   "outputs": [],
   "source": []
  }
 ],
 "metadata": {
  "kernelspec": {
   "display_name": "Python 3 (ipykernel)",
   "language": "python",
   "name": "python3"
  },
  "language_info": {
   "codemirror_mode": {
    "name": "ipython",
    "version": 3
   },
   "file_extension": ".py",
   "mimetype": "text/x-python",
   "name": "python",
   "nbconvert_exporter": "python",
   "pygments_lexer": "ipython3",
   "version": "3.9.12"
  }
 },
 "nbformat": 4,
 "nbformat_minor": 5
}
